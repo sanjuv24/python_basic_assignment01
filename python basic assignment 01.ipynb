{
 "cells": [
  {
   "cell_type": "code",
   "execution_count": null,
   "id": "28eb9da5-6285-48d9-837b-2dfd52be82cb",
   "metadata": {},
   "outputs": [],
   "source": [
    "1. In the below elements which of them are values or an expression? eg:- values can be\n",
    "integer or string and expressions will be mathematical operators.\n",
    "*\n",
    "'hello'\n",
    "-87.8\n",
    "-\n",
    "/\n",
    "+\n",
    "6\n",
    "\n",
    "\n",
    "\n",
    "Ans: values are:\n",
    "    'hello' (string), -87.8 (float) and 6 (int)\n",
    "\n",
    "Expressions are:\n",
    "    * (multiplication operator), - (subtraction operator), / (division operator), + (addition operator)"
   ]
  },
  {
   "cell_type": "code",
   "execution_count": null,
   "id": "51edc03c-6952-489f-a71b-8ffda2f0beb9",
   "metadata": {},
   "outputs": [],
   "source": [
    "2. What is the difference between string and variable?\n",
    "\n",
    "\n",
    "Ans: String:\n",
    "Strings are a specific data type in Python used to represent text.It is a sequence of characters enclosed in single (' ') or double (\" \") quotes.\n",
    "Strings can be assigned to variables.\n",
    "\n",
    "Example:\n",
    "Greeting= \"Good Morning\"  # Greeting is a variable holding the string \"Good Morning\"\n",
    "\n",
    "Variable:\n",
    "    A variable is a name that refers to a value stored in memory. It can hold different types of data, including numbers, strings, lists, and more.\n",
    "Variables provide a way to label and reference values in your code, making it easier to work with data.\n",
    "\n",
    "Example:\n",
    "x = 2  # x is a variable holding the integer value 2\n",
    "name = \"John\"  # name is a variable holding the string \"John\"\n",
    "\n",
    "\n"
   ]
  },
  {
   "cell_type": "code",
   "execution_count": null,
   "id": "5122de89-00b0-4e2c-9682-c2bbafbd461f",
   "metadata": {},
   "outputs": [],
   "source": [
    "3. Describe three different data types.\n",
    "Ans: There are three data types in Python:\n",
    "\n",
    "Integer (int):\n",
    "It represents whole numbers without any decimal point.\n",
    "Example: x = 5\n",
    "\n",
    "Float (float):\n",
    "It represents numbers that have a decimal point or are expressed in scientific notation.\n",
    "Example: y = 3.14\n",
    "\n",
    "String (str):\n",
    "\n",
    "It represents sequences of characters, typically used for text.\n",
    "Example: name = \"John\"\n",
    "These three data types are basic building blocks, and Python supports many other data types, such as:\n",
    "\n",
    "Boolean (bool): It represents True or False values.\n",
    "List: It represents an ordered collection of elements.\n",
    "Tuple: It is similar to a list but is immutable (cannot be modified after creation).\n",
    "Dictionary (dict): Represents a collection of key-value pairs.\n",
    "Set: Represents an unordered collection of unique elements.\n"
   ]
  },
  {
   "cell_type": "code",
   "execution_count": null,
   "id": "43528f43-d6eb-458b-b0b6-547a8fe14c83",
   "metadata": {},
   "outputs": [],
   "source": [
    "4. What is an expression made up of? What do all expressions do?\n",
    "Ans: An expression is a combination of operators, constants and variables. An expression may consist of one or more operands, and zero or more operators to produce a value.\n",
    "\n",
    "\n",
    "Example:\n",
    "\n",
    "a+b\n",
    "c\n",
    "s-1/7*f\n",
    ".\n",
    ".\n",
    "etc\n",
    "\n",
    "Types of Expressions:\n",
    "\n",
    "Constant expressions: Constant Expressions consists of only constant values. A constant value is one that doesn’t change.\n",
    "Examples:\n",
    "5, 10 + 5 / 6.0, 'x’\n",
    "\n",
    "Integral expressions: Integral Expressions are those which produce integer results after implementing all the automatic and explicit type conversions.\n",
    "Examples:\n",
    "x, x * y, x + int( 5.0)\n",
    "where x and y are integer variables.\n",
    "\n",
    "Floating expressions: Float Expressions are which produce floating point results after implementing all the automatic and explicit type conversions.\n",
    "Examples:\n",
    "x + y, 10.75\n",
    "where x and y are floating point variables.\n",
    "\n",
    "Relational expressions: Relational Expressions yield results of type bool which takes a value true or false.\n",
    "When arithmetic expressions are used on either side of a relational operator,\n",
    "they will be evaluated first and then the results compared. Relational expressions are also known as Boolean expressions.\n",
    "Examples:\n",
    "x <= y, x + y > 2\n",
    "\n",
    "Logical expressions: Logical Expressions combine two or more relational expressions and produces bool type results.\n",
    "Examples:\n",
    " x > y && x == 10, x == 10 || y == 5\n",
    "\n",
    "Pointer expressions: Pointer Expressions produce address values.\n",
    "Examples:\n",
    "&x, ptr, ptr++\n",
    "where x is a variable and ptr is a pointer.\n",
    "\n",
    "Bitwise expressions: Bitwise Expressions are used to manipulate data at bit level. They are basically used for testing or shifting bits.\n",
    "Examples:\n",
    "x << 3\n",
    "shifts three bit position to left\n",
    "\n",
    "y >> 1\n",
    "shifts one bit position to right.\n",
    "\n",
    "Shift operators are often used for multiplication and division by powers of two.\n",
    "\n",
    "Note: An expression may also use combinations of the above expressions. Such expressions are known as compound expressions.\n",
    "\n",
    "\n",
    "\n",
    "\n",
    "Expressions perform the work of a program. Among other things, expressions are used to compute and to assign values to variables and to help control the execution flow of a program.\n",
    "The job of an expression is twofold: to perform the computation indicated by the elements of the expression and to return a value that is the result of the computation.\n",
    "\n",
    "\n"
   ]
  },
  {
   "cell_type": "code",
   "execution_count": null,
   "id": "3339a996-89a7-430a-8597-f4283a105bc7",
   "metadata": {},
   "outputs": [],
   "source": [
    "5. This assignment statements, like spam = 10. What is the difference between an expression and a statement?\n",
    "\n",
    "Ans: In Python, there is a clear distinction between expressions and statements:\n",
    "\n",
    "Expression:\n",
    "\n",
    "An expression is any valid combination of literals, variables, operators, and function calls that evaluates to a value.\n",
    "Examples of expressions include 2 + 3, x * y, len(\"hello\"), etc.\n",
    "Expressions always return a value.\n",
    "They can be part of a larger expression or statement.\n",
    "\n",
    "\n",
    "Statement:\n",
    "\n",
    "A statement is a complete line of code that performs some action. It doesn't necessarily return a value.\n",
    "Examples of statements include assignment statements (spam = 10), if statements, for loops, function definitions, etc.\n",
    "Statements typically do something rather than just producing a value.\n",
    "They can contain expressions, but they themselves are not expressions.\n",
    "\n",
    " In the example spam = 10, spam is a variable, 10 is a literal, and the assignment operator = is used to assign the value 10 to the variable spam.\n",
    " This is a statement because it performs an action (assigning a value to a variable), but it's not an expression because it doesn't evaluate to a value itself.\n",
    " However, the expression 10 is part of this statement."
   ]
  },
  {
   "cell_type": "code",
   "execution_count": 14,
   "id": "f9e6b331-677a-4756-b98c-bc74c1c1a209",
   "metadata": {},
   "outputs": [
    {
     "name": "stdout",
     "output_type": "stream",
     "text": [
      "23\n",
      "22\n",
      "23\n"
     ]
    }
   ],
   "source": [
    "'''6.After running the following code, what does the variable bacon contain?\n",
    "bacon = 22\n",
    "bacon + 1'''\n",
    "\n",
    "#Ans:After running the given code:\n",
    "bacon = 22\n",
    "print(bacon +  1)\n",
    "print(bacon)\n",
    "#The variable bacon still contains the value 22. The expression bacon + 1 evaluates to 23, but the result of this expression is not assigned to any variable or used in any way.\n",
    " #Therefore, it doesn't change the value of the variable bacon. If we want to update the value of bacon, we would need to explicitly assign the result of the expression back to the variable:\n",
    "\n",
    "bacon = bacon + 1\n",
    "print(bacon)\n",
    "\n",
    "#Now, bacon would contain 23."
   ]
  },
  {
   "cell_type": "code",
   "execution_count": 16,
   "id": "ac02442c-d788-4db8-9145-e987930a3b46",
   "metadata": {},
   "outputs": [
    {
     "name": "stdout",
     "output_type": "stream",
     "text": [
      "spamspamspam\n",
      "spamspamspam\n"
     ]
    }
   ],
   "source": [
    "'''7. What should the values of the following two terms be?\n",
    "'spam' + 'spamspam'\n",
    "'spam'* 3'''\n",
    "\n",
    "Ans: print('spam' + 'spamspam')\n",
    "   # spam' + 'spamspam': This expression concatenates the string 'spam' with the string 'spamspam'. So, the result would be 'spamspamspam'.\n",
    "print('spam'* 3)\n",
    "#'spam' * 3: This expression repeats the string 'spam' three times. So, the result would be 'spamspamspam'.\n",
    "\n",
    "#In both cases, the resulting value is 'spamspamspam'."
   ]
  },
  {
   "cell_type": "code",
   "execution_count": null,
   "id": "14f3b853-c563-4552-898a-7cccd0cf0a81",
   "metadata": {},
   "outputs": [],
   "source": [
    "8. Why is eggs a valid variable name while 100 is invalid?\n",
    "Ans:eggs is a valid variable name because it begins with a letter ('e') and contains only letters, which are allowed in subsequent positions.\n",
    "\n",
    "100 is invalid as a variable name because it begins with a digit ('1'), violating the rule that variable names cannot begin with a digit.\n",
    "\n",
    "So, while eggs is a valid variable name because it follows Python's rules for variable naming, 100 is invalid because it doesn't adhere to these rules.\n"
   ]
  },
  {
   "cell_type": "code",
   "execution_count": 17,
   "id": "1e821f49-ce3b-4721-bfd6-fc3914dba114",
   "metadata": {},
   "outputs": [
    {
     "name": "stdout",
     "output_type": "stream",
     "text": [
      "10\n",
      "10.0\n",
      "10.5\n"
     ]
    }
   ],
   "source": [
    "'''9. What three functions can be used to get the integer, floating-point number, or string version of a value?\n",
    "\n",
    "Ans:The int(), float(), and str() functions will evaluate to the integer, floating-point number, and string versions of the value passed to them.\n",
    "\n",
    "Integer Conversion:\n",
    "\n",
    "int(): This function can be used to convert a value to an integer. If the value is a floating-point number, it will truncate towards zero (i.e., remove the decimal part).'''\n",
    "integer_value = int(10.5)  # integer_value will be 10\n",
    "print(integer_value)\n",
    "\n",
    "'''Floating-Point Conversion:\n",
    "\n",
    "float(): This function can be used to convert a value to a floating-point number.'''\n",
    "\n",
    "float_value = float(10)  # float_value will be 10.0\n",
    "print(float_value)\n",
    "\n",
    "'''String Conversion:\n",
    "\n",
    "str(): This function can be used to convert a value to a string.'''\n",
    "\n",
    "string_value = str(10.5)  # string_value will be '10.5'\n",
    "print(string_value)"
   ]
  },
  {
   "cell_type": "code",
   "execution_count": 24,
   "id": "ffdded0f-cefc-4c73-b65e-9d079d373f95",
   "metadata": {},
   "outputs": [
    {
     "ename": "TypeError",
     "evalue": "can only concatenate str (not \"int\") to str",
     "output_type": "error",
     "traceback": [
      "\u001b[0;31m---------------------------------------------------------------------------\u001b[0m",
      "\u001b[0;31mTypeError\u001b[0m                                 Traceback (most recent call last)",
      "Cell \u001b[0;32mIn [24], line 2\u001b[0m\n\u001b[1;32m      1\u001b[0m \u001b[38;5;66;03m#10. Why does this expression cause an error? How can you fix it?\u001b[39;00m\n\u001b[0;32m----> 2\u001b[0m \u001b[38;5;124;43m'\u001b[39;49m\u001b[38;5;124;43mI have eaten\u001b[39;49m\u001b[38;5;124;43m'\u001b[39;49m\u001b[38;5;241;43m+\u001b[39;49m\u001b[43m \u001b[49m\u001b[38;5;241;43m99\u001b[39;49m \u001b[38;5;241m+\u001b[39m\u001b[38;5;124m'\u001b[39m\u001b[38;5;124mburritos.\u001b[39m\u001b[38;5;124m'\u001b[39m\n\u001b[1;32m      5\u001b[0m \u001b[38;5;66;03m#Ans:\u001b[39;00m\n\u001b[1;32m      6\u001b[0m \u001b[38;5;28mprint\u001b[39m(\u001b[38;5;124m'\u001b[39m\u001b[38;5;124mI have eaten\u001b[39m\u001b[38;5;124m'\u001b[39m\u001b[38;5;241m+\u001b[39m \u001b[38;5;241m99\u001b[39m \u001b[38;5;241m+\u001b[39m\u001b[38;5;124m'\u001b[39m\u001b[38;5;124mburritos.\u001b[39m\u001b[38;5;124m'\u001b[39m)\n",
      "\u001b[0;31mTypeError\u001b[0m: can only concatenate str (not \"int\") to str"
     ]
    }
   ],
   "source": [
    "#10. Why does this expression cause an error? How can you fix it?\n",
    "'I have eaten'+ 99 +'burritos.'\n",
    "\n",
    "\n",
    "#Ans:\n",
    "print('I have eaten'+ 99 +'burritos.')\n",
    "    \n",
    "'''The expression 'I have eaten' + 99 + 'burritos.' causes an error because we cannot directly concatenate a string with an integer in Python.\n",
    "To fix it, we need to convert the integer 99 to a string before concatenating it with the other strings. \n",
    "we can achieve this by using the str() function to convert the integer to a string:\n",
    "\n",
    "'I have eaten ' + str(99) + ' burritos.'\n",
    "This will convert the integer 99 to the string '99', allowing it to be concatenated with the other strings without causing an error.'''"
   ]
  },
  {
   "cell_type": "code",
   "execution_count": 25,
   "id": "73ba4f7b-8b84-4b35-9c6a-63c7940979f4",
   "metadata": {},
   "outputs": [
    {
     "name": "stdout",
     "output_type": "stream",
     "text": [
      "I have eaten 99 burritos.\n"
     ]
    }
   ],
   "source": [
    "print('I have eaten ' + str(99) + ' burritos.')"
   ]
  },
  {
   "cell_type": "code",
   "execution_count": null,
   "id": "5e779e81-9c9b-4344-86f4-9130211e2ff9",
   "metadata": {},
   "outputs": [],
   "source": []
  }
 ],
 "metadata": {
  "kernelspec": {
   "display_name": "Python 3 (ipykernel)",
   "language": "python",
   "name": "python3"
  },
  "language_info": {
   "codemirror_mode": {
    "name": "ipython",
    "version": 3
   },
   "file_extension": ".py",
   "mimetype": "text/x-python",
   "name": "python",
   "nbconvert_exporter": "python",
   "pygments_lexer": "ipython3",
   "version": "3.10.6"
  }
 },
 "nbformat": 4,
 "nbformat_minor": 5
}
