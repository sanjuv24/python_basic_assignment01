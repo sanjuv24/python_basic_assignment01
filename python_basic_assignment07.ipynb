{
  "nbformat": 4,
  "nbformat_minor": 0,
  "metadata": {
    "colab": {
      "provenance": []
    },
    "kernelspec": {
      "name": "python3",
      "display_name": "Python 3"
    },
    "language_info": {
      "name": "python"
    }
  },
  "cells": [
    {
      "cell_type": "code",
      "execution_count": 7,
      "metadata": {
        "colab": {
          "base_uri": "https://localhost:8080/"
        },
        "id": "6F-V1JDZ-GQE",
        "outputId": "2143a497-9b2c-41c2-c5f8-e257caea8e13"
      },
      "outputs": [
        {
          "output_type": "stream",
          "name": "stdout",
          "text": [
            "Addition:10+5=15\n",
            "Subtraction:10-5=5\n",
            "Multiplication:10*5=50\n",
            "Division:10/5=2.0\n"
          ]
        }
      ],
      "source": [
        "'''Q.1. Create two int type variables, apply addition, subtraction, division and multiplications\n",
        "and store the results in variables. Then print the data in the following format by calling the\n",
        "variables:\n",
        "First variable is __ & second variable is __.\n",
        "Addition: __ + __ = __\n",
        "Subtraction: __ - __ = __\n",
        "Multiplication: __ * __ = __\n",
        "Division: __ / __ = __\n",
        "Ans:'''\n",
        "var1=10\n",
        "var2=5\n",
        "addition=var1+var2\n",
        "subtraction=var1-var2\n",
        "multiplication=var1*var2\n",
        "division=var1/var2\n",
        "print(f\"Addition:{var1}+{var2}={addition}\")\n",
        "print(f\"Subtraction:{var1}-{var2}={subtraction}\")\n",
        "print(f\"Multiplication:{var1}*{var2}={multiplication}\")\n",
        "print(f\"Division:{var1}/{var2}={division}\")"
      ]
    },
    {
      "cell_type": "code",
      "source": [
        "'''Q.2. What is the difference between the following operators:\n",
        "(i) ‘/’ & ‘//’\n",
        "(ii) ‘**’ & ‘^’'''\n",
        "#Ans:i) The '/' operator is used for division in Python, and it returns a floating-point number even if the result is a whole number.\n",
        "a=5\n",
        "b=2\n",
        "print(a/b)#5 / 2 will result in 2.5\n",
        "\n",
        "\n",
        "# The  operator,'//' on the other hand, is used for floor division. It divides the left operand by the right operand and returns the largest possible integer.\n",
        "a=5\n",
        "b=2\n",
        "print(5//2)# 5 // 2 will result in 2.\n",
        "\n",
        "# (ii) The '**' operator is used for exponentiation in Python. It raises the left operand to the power of the right operand.\n",
        "a=2\n",
        "b=3\n",
        "print(a**b)# 2 ** 3 will result in 8.\n",
        "\n",
        "# The '^' operator, however, is bitwise XOR (exclusive OR) operator in Python. It performs a bitwise XOR operation on the two operands.\n",
        "a=5\n",
        "b=3\n",
        "print(bin(5))\n",
        "print(bin(3))\n",
        "result=a^b\n",
        "print(bin(result))\n",
        "print(a^b)#5 ^ 3 will result in 6 because in binary, 5 is 101 and 3 is 011, and XORing them gives 110 which is 6 in decimal.\"\"\""
      ],
      "metadata": {
        "colab": {
          "base_uri": "https://localhost:8080/"
        },
        "id": "_uLjcmEcCHv7",
        "outputId": "3680387f-94ba-4f07-f2d8-a4376e724263"
      },
      "execution_count": 2,
      "outputs": [
        {
          "output_type": "stream",
          "name": "stdout",
          "text": [
            "2.5\n",
            "2\n",
            "8\n",
            "0b101\n",
            "0b11\n",
            "0b110\n",
            "6\n"
          ]
        }
      ]
    },
    {
      "cell_type": "code",
      "source": [
        "Q.3. List the logical operators.\n",
        "Ans:The logical operators are:\n",
        "\n",
        "and: Returns True if both operands are True, otherwise False.\n",
        "or: Returns True if at least one of the operands is True, otherwise False.\n",
        "not: Returns the opposite boolean value of the operand. If the operand is True, it returns False, and if the operand is False, it returns True.\n",
        "\n",
        "\n",
        "\n"
      ],
      "metadata": {
        "id": "8PDUW0h1Q1o8"
      },
      "execution_count": null,
      "outputs": []
    },
    {
      "cell_type": "code",
      "source": [
        "'''Q.4. Explain right shift operator and left shift operator with examples.\n",
        "Ans:The right shift (>>) and left shift (<<) operators are used to shift the bits of a number to the right or left, respectively. These operators operate on the binary representation of integers.\n",
        "\n",
        "Right Shift Operator (>>):\n",
        "\n",
        "Syntax: x >> n, where x is the number to be shifted and n is the number of positions to shift.\n",
        "\n",
        "The right shift operator shifts the bits of x to the right by n positions. It effectively divides x by 2^n and discards the remainder.\n",
        "\n",
        "Example:'''\n",
        "\n",
        "x = 16\n",
        "print(bin(16)) # Binary: 10000\n",
        "result = x >> 2  # Shift right by 2 positions\n",
        "print(result)    # Output: 4\n",
        "print(bin(result))#(Binary: 100)\n",
        "\n",
        "'''Left Shift Operator (<<):\n",
        "\n",
        "Syntax: x << n, where x is the number to be shifted and n is the number of positions to shift.\n",
        "\n",
        "The left shift operator shifts the bits of x to the left by n positions. It effectively multiplies x by 2^n.\n",
        "\n",
        "Example:'''\n",
        "\n",
        "x = 2   # Binary: 10\n",
        "print(bin(x))\n",
        "result = x << 3  # Shift left by 3 positions\n",
        "print(result)    # Output: 16\n",
        "print(bin(result))#(Binary: 10000)\n",
        "#In both cases, if the shifted bits exceed the size of the integer type, the excess bits are discarded.\n",
        "\n",
        "\n",
        "\n",
        "\n"
      ],
      "metadata": {
        "colab": {
          "base_uri": "https://localhost:8080/"
        },
        "id": "7qOrrtsmRc_v",
        "outputId": "a86ed269-7141-4a30-ed57-b1d1ce7ac45b"
      },
      "execution_count": 4,
      "outputs": [
        {
          "output_type": "stream",
          "name": "stdout",
          "text": [
            "0b10000\n",
            "4\n",
            "0b100\n",
            "0b10\n",
            "16\n",
            "0b10000\n"
          ]
        }
      ]
    },
    {
      "cell_type": "code",
      "source": [
        "'''Q.5. Create a list containing int type data of length 15. Then write a code to check if 10 is present in the list or not.\n",
        "Ans:'''\n",
        "\n",
        "my_list = [2, 4, 6, 8, 10, 12, 14, 16, 18, 20, 22, 24, 26, 28, 30]\n",
        "print(len(my_list))\n",
        "# Check if 10 is present in the list\n",
        "if 10 in my_list:\n",
        "    print(\"10 is present in the list.\")\n",
        "else:\n",
        "    print(\"10 is not present in the list.\")\n"
      ],
      "metadata": {
        "colab": {
          "base_uri": "https://localhost:8080/"
        },
        "id": "Umb3o3VARm29",
        "outputId": "2b22072f-c945-46ae-e532-47d7475a59d6"
      },
      "execution_count": 5,
      "outputs": [
        {
          "output_type": "stream",
          "name": "stdout",
          "text": [
            "15\n",
            "10 is present in the list.\n"
          ]
        }
      ]
    }
  ]
}