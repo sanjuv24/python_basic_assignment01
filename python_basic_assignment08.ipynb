{
  "nbformat": 4,
  "nbformat_minor": 0,
  "metadata": {
    "colab": {
      "provenance": []
    },
    "kernelspec": {
      "name": "python3",
      "display_name": "Python 3"
    },
    "language_info": {
      "name": "python"
    }
  },
  "cells": [
    {
      "cell_type": "code",
      "execution_count": null,
      "metadata": {
        "colab": {
          "base_uri": "https://localhost:8080/"
        },
        "id": "ZwxTK3LPwGg8",
        "outputId": "1c9ec10d-269a-438c-da7a-278504e189ad"
      },
      "outputs": [
        {
          "output_type": "stream",
          "name": "stdout",
          "text": [
            "5\n",
            "15\n"
          ]
        }
      ],
      "source": [
        "'''1. In Python, what is the difference between a built-in function and a user-defined function? Provide anexample of each.\n",
        "Ans:In Python, a built-in function is a function that is predefined in the Python interpreter and is readily available for use without needing to be explicitly defined. These functions are part of the Python standard library and include functions like print(), len(), and input().\n",
        "\n",
        "A user-defined function, on the other hand, is a function that is created by a programmer to perform a specific task. These functions are defined using the def keyword and can be reused throughout a program.'''\n",
        "\n",
        "\n",
        "# Built-in function\n",
        "#example\n",
        "# The len() function is a built-in function that returns the length of an object (e.g., a list, tuple, or string).\n",
        "\n",
        "my_list = [1, 2, 3, 4, 5]\n",
        "# Here, we use len() to get the length of a list.\n",
        "print(len(my_list))  # Output: 5\n",
        "\n",
        "# User-defined function\n",
        "#example\n",
        "# Here, we define a simple function named 'add_numbers' that takes two arguments and returns their sum.\n",
        "def add_numbers(a, b):\n",
        "    return a + b\n",
        "\n",
        "result = add_numbers(5, 10)\n",
        "print(result)  # Output: 15"
      ]
    },
    {
      "cell_type": "code",
      "source": [
        "'''2. How can you pass arguments to a function in Python? Explain the difference between positional arguments and keyword arguments.\n",
        "Ans:In Python, we can pass arguments to a function in two main ways: positional arguments and keyword arguments.\n",
        "\n",
        "Positional arguments: These are arguments that are passed to a function in the order they are defined in the function signature. The function assigns the first value to the first parameter, the second value to the second parameter, and so on.'''\n",
        "#Example:\n",
        "\n",
        "\n",
        "def greet(name, greeting):\n",
        "    return f\"{greeting}, {name}!\"\n",
        "\n",
        "# Passing positional arguments\n",
        "print(greet(\"Alice\", \"Hello\"))  # Output: Hello, Alice!\n",
        "\n",
        "#Keyword arguments: These are arguments preceded by a parameter name (keyword) and an equals sign (=) in the function call. This allows you to pass arguments to a function in any order, as long as you specify the parameter name.\n",
        "\n",
        "#Example:\n",
        "\n",
        "def greet(name, greeting):\n",
        "    return f\"{greeting}, {name}!\"\n",
        "\n",
        "# Passing keyword arguments\n",
        "print(greet(greeting=\"Hello\", name=\"Bob\"))  # Output: Hello, Bob!\n",
        "#we can also mix positional and keyword arguments, but positional arguments must come before keyword arguments in the function call.\n",
        "\n",
        "def greet(name, greeting, punctuation=\".\"):\n",
        "    return f\"{greeting}, {name}{punctuation}\"\n",
        "\n",
        "# Mixing positional and keyword arguments\n",
        "print(greet(\"Alice\", greeting=\"Hi\", punctuation=\"!\"))  # Output: Hi, Alice!\n",
        "\n",
        "\n",
        "\n"
      ],
      "metadata": {
        "colab": {
          "base_uri": "https://localhost:8080/"
        },
        "id": "5vOEUJnWyKpx",
        "outputId": "63107d3d-4a2e-4fb0-a901-3f77255649e7"
      },
      "execution_count": null,
      "outputs": [
        {
          "output_type": "stream",
          "name": "stdout",
          "text": [
            "Hello, Alice!\n",
            "Hello, Bob!\n",
            "Hi, Alice!\n"
          ]
        }
      ]
    },
    {
      "cell_type": "code",
      "source": [
        "'''3. What is the purpose of the return statement in a function? Can a function have multiple return statements? Explain with an example.\n",
        "Ans:The return statement in a function is used to exit the function and return a value (or multiple values) to the caller. It serves the purpose of passing back the result of the function's computation or operation.\n",
        "\n",
        "A function can have multiple return statements, but only one of them will be executed. Once a return statement is encountered, the function exits immediately, and the value (if any) is returned to the caller. This means that any code after a return statement will not be executed.\n",
        "\n",
        "Example to illustrate multiple return statements in a function:'''\n",
        "\n",
        "def check_number(number):\n",
        "    if number > 0:\n",
        "        return \"Positive\"\n",
        "    elif number < 0:\n",
        "        return \"Negative\"\n",
        "    else:\n",
        "        return \"Zero\"\n",
        "\n",
        "# Using the function with different inputs\n",
        "print(check_number(5))    # Output: Positive\n",
        "print(check_number(-5))   # Output: Negative\n",
        "print(check_number(0))    # Output: Zero\n",
        "#In this example, the function check_number takes a number as input and returns a string indicating whether the number is positive, negative, or zero. Depending on the value of the input number, one of the return statements will be executed, and the corresponding string will be returned.\n"
      ],
      "metadata": {
        "colab": {
          "base_uri": "https://localhost:8080/"
        },
        "id": "LbgP1R0VyOJW",
        "outputId": "3bf6061e-8064-40a7-e32d-2d24c2bbcc4b"
      },
      "execution_count": null,
      "outputs": [
        {
          "output_type": "stream",
          "name": "stdout",
          "text": [
            "Positive\n",
            "Negative\n",
            "Zero\n"
          ]
        }
      ]
    },
    {
      "cell_type": "code",
      "source": [
        "'''4. What are lambda functions in Python? How are they different from regular functions? Provide an example where a lambda function can be useful.\n",
        "Ans:Lambda functions, also known as anonymous functions, are small, inline functions that are defined using the lambda keyword. They can have any number of arguments but can only have one expression. Lambda functions are often used when a small function is needed for a short period of time and creating a formal function using def would be overkill.\n",
        "\n",
        "Example of a lambda function that adds two numbers:\n",
        "\n",
        "add = lambda x, y: x + y\n",
        "print(add(5, 3))  # Output: 8\n",
        "Lambda functions differ from regular functions in a few key ways:\n",
        "\n",
        "Syntax: Lambda functions are defined using the lambda keyword, followed by a list of arguments, a colon (:), and an expression.\n",
        "\n",
        "Return: Lambda functions automatically return the value of the expression without needing an explicit return statement.\n",
        "\n",
        "Namelessness: Lambda functions are anonymous, meaning they are not bound to a name. However, they can be assigned to a variable (as shown in the example above).\n",
        "\n",
        "Lambda functions are particularly useful in situations where a small function is needed as an argument to higher-order functions, such as map(), filter(), and sorted(). These functions expect a function as an argument, and using a lambda function allows for a concise way to define such functions inline. For example, using a lambda function with map() to square each element in a list:'''\n",
        "\n",
        "numbers = [1, 2, 3, 4, 5]\n",
        "squared_numbers = list(map(lambda x: x**2, numbers))\n",
        "print(squared_numbers)  # Output: [1, 4, 9, 16, 25]"
      ],
      "metadata": {
        "colab": {
          "base_uri": "https://localhost:8080/"
        },
        "id": "iwvTtZ863XRY",
        "outputId": "428072db-d389-4dbd-9b28-b72c01dcc1df"
      },
      "execution_count": null,
      "outputs": [
        {
          "output_type": "stream",
          "name": "stdout",
          "text": [
            "[1, 4, 9, 16, 25]\n"
          ]
        }
      ]
    },
    {
      "cell_type": "code",
      "source": [
        "'''5. How does the concept of \"scope\" apply to functions in Python? Explain the difference between local scope and global scope.\n",
        "\n",
        "Ans:In Python, \"scope\" refers to the region of a program where a particular variable is accessible. Variables in Python can have either local scope or global scope, depending on where they are defined.\n",
        "\n",
        "Local scope: Variables defined inside a function have local scope, which means they can only be accessed within that function. Once the function completes execution, the local variables are destroyed, and their values are no longer accessible.\n",
        "\n",
        "Example:'''\n",
        "\n",
        "def my_function():\n",
        "    x = 10  # Local variable\n",
        "    print(x)\n",
        "\n",
        "my_function()  # Output: 10\n",
        "# print(x)  # This would raise a NameError because x is not defined in the global scope\n",
        "\n",
        "'''Global scope: Variables defined outside of any function have global scope, which means they can be accessed from anywhere in the program, including inside functions. Global variables persist throughout the execution of the program unless explicitly destroyed.\n",
        "\n",
        "Example:'''\n",
        "\n",
        "y = 20  # Global variable\n",
        "\n",
        "def my_function():\n",
        "    print(y)  # Accessing global variable inside function\n",
        "\n",
        "my_function()  # Output: 20\n",
        "print(y)  # Output: 20\n",
        "#When a variable is referenced within a function, Python first checks the local scope to see if the variable is defined there. If not found, it then checks the global scope. If the variable is not found in either scope, a NameError is raised.\n",
        "\n",
        "#It's important to note that while global variables can be accessed from within a function, if we want to modify a global variable from within a function, we need to use the global keyword to explicitly declare the variable as global.\n",
        "\n",
        "\n",
        "\n",
        "\n"
      ],
      "metadata": {
        "colab": {
          "base_uri": "https://localhost:8080/"
        },
        "id": "h8Mj7fm_62kp",
        "outputId": "e818b1a6-c8df-48f0-aca9-95545b47d089"
      },
      "execution_count": null,
      "outputs": [
        {
          "output_type": "stream",
          "name": "stdout",
          "text": [
            "10\n",
            "20\n",
            "20\n"
          ]
        }
      ]
    },
    {
      "cell_type": "code",
      "source": [
        "'''6. How can you use the \"return\" statement in a Python function to return multiple values?\n",
        "Ans:In Python, we can return multiple values from a function by separating them with commas in the return statement. When a function returns multiple values, Python actually packs them into a single tuple and returns that tuple. we can then unpack the tuple when we receive the return value.\n",
        "\n",
        "Example:'''\n",
        "\n",
        "def get_name_and_age():\n",
        "    name = \"Alice\"\n",
        "    age = 30\n",
        "    return name, age\n",
        "\n",
        "# Unpacking the tuple into separate variables\n",
        "name, age = get_name_and_age()\n",
        "print(f\"Name: {name}, Age: {age}\")  # Output: Name: Alice, Age: 30\n",
        "#In this example, the get_name_and_age function returns two values (name and age) which are automatically packed into a tuple. The return name, age statement is equivalent to return (name, age). When the function is called, the returned tuple is unpacked into the name and age variables using multiple assignment."
      ],
      "metadata": {
        "colab": {
          "base_uri": "https://localhost:8080/"
        },
        "id": "G6jWnZny8Tou",
        "outputId": "63b3d3ee-d32e-4d66-8bed-69b94370f0c5"
      },
      "execution_count": null,
      "outputs": [
        {
          "output_type": "stream",
          "name": "stdout",
          "text": [
            "Name: Alice, Age: 30\n"
          ]
        }
      ]
    },
    {
      "cell_type": "code",
      "source": [
        "#7. What is the difference between the \"pass by value\" and \"pass by reference\" concepts when it comes to function arguments in Python?\n",
        "#Ans:\n",
        "#Pass by value: When a function is called with a value, a copy of the value is created and passed to the function. Changes made to the parameter inside the function do not affect the original value.\n",
        "def modify_value(num):\n",
        "    num += 10\n",
        "    print(\"Inside function:\", num)\n",
        "\n",
        "my_num = 5\n",
        "modify_value(my_num)\n",
        "print(\"Outside function:\", my_num)\n",
        "#In this example, my_num is an integer (immutable). When my_num is passed to modify_value, a copy of the value 5 is passed to the num parameter. Inside the function, num is modified to 15, but this change does not affect the original my_num variable outside the function.\n",
        "\n",
        "\n",
        "\n",
        "#Pass by reference: When a function is called with a reference to a variable (e.g., a mutable object like a list), the reference is passed to the function. This means changes made to the parameter inside the function affect the original value.\n",
        "def modify_list(lst):\n",
        "    lst.append(4)\n",
        "    print(\"Inside function:\", lst)\n",
        "\n",
        "my_list = [1, 2, 3]\n",
        "modify_list(my_list)\n",
        "print(\"Outside function:\", my_list)\n",
        "#In this example, my_list is a list (mutable). When my_list is passed to modify_list, a reference to the original list is passed to the lst parameter. Inside the function, lst is modified to [1, 2, 3, 4], which also affects the original my_list variable outside the function."
      ],
      "metadata": {
        "colab": {
          "base_uri": "https://localhost:8080/"
        },
        "id": "rbdXIF_oZshz",
        "outputId": "9f2ea91a-dcb6-41fd-c331-176fcccabc75"
      },
      "execution_count": 4,
      "outputs": [
        {
          "output_type": "stream",
          "name": "stdout",
          "text": [
            "Inside function: 15\n",
            "Outside function: 5\n",
            "Inside function: [1, 2, 3, 4]\n",
            "Outside function: [1, 2, 3, 4]\n"
          ]
        }
      ]
    },
    {
      "cell_type": "code",
      "source": [
        "'''8. Create a function that can intake integer or decimal value and do following operations:\n",
        "a. Logarithmic function (log x)\n",
        "b. Exponential function (exp(x))\n",
        "c. Power function with base 2 (2^x)\n",
        "d. Square root\n",
        "Ans:'''\n",
        "import math\n",
        "\n",
        "def perform_operation(number, operation):\n",
        "    if operation == 'log':\n",
        "        return math.log(number)\n",
        "    elif operation == 'exp':\n",
        "        return math.exp(number)\n",
        "    elif operation == 'power':\n",
        "        return 2 ** number\n",
        "    elif operation == 'sqrt':\n",
        "        return math.sqrt(number)\n",
        "    else:\n",
        "        return \"Invalid operation\"\n",
        "\n",
        "# Example usage\n",
        "number = 2.0\n",
        "print(\"Logarithmic function (log x):\", perform_operation(number, 'log'))\n",
        "print(\"Exponential function (exp(x)):\", perform_operation(number, 'exp'))\n",
        "print(\"Power function with base 2 (2^x):\", perform_operation(number, 'power'))\n",
        "print(\"Square root:\", perform_operation(number, 'sqrt'))"
      ],
      "metadata": {
        "colab": {
          "base_uri": "https://localhost:8080/"
        },
        "id": "CKrv8757eWvc",
        "outputId": "322dee62-4ae3-4cab-887c-65fa71b4cf26"
      },
      "execution_count": 2,
      "outputs": [
        {
          "output_type": "stream",
          "name": "stdout",
          "text": [
            "Logarithmic function (log x): 0.6931471805599453\n",
            "Exponential function (exp(x)): 7.38905609893065\n",
            "Power function with base 2 (2^x): 4.0\n",
            "Square root: 1.4142135623730951\n"
          ]
        }
      ]
    },
    {
      "cell_type": "code",
      "source": [
        "#9. Create a function that takes a full name as an argument and returns first name and last name.\n",
        "#Ans:\n",
        "def split_full_name(full_name):\n",
        "    parts = full_name.split()\n",
        "    first_name = parts[0]\n",
        "    last_name = ' '.join(parts[1:]) if len(parts) > 1 else ''\n",
        "    return first_name, last_name\n",
        "\n",
        "# Example usage\n",
        "full_name = \"Alien Musk\"\n",
        "first_name, last_name = split_full_name(full_name)\n",
        "print(\"First Name:\", first_name)\n",
        "print(\"Last Name:\", last_name)"
      ],
      "metadata": {
        "colab": {
          "base_uri": "https://localhost:8080/"
        },
        "id": "yTNFuI1QeWQG",
        "outputId": "bb70a0e0-7d09-4d28-d6b6-c07242e6f8ab"
      },
      "execution_count": 1,
      "outputs": [
        {
          "output_type": "stream",
          "name": "stdout",
          "text": [
            "First Name: Alien\n",
            "Last Name: Musk\n"
          ]
        }
      ]
    }
  ]
}