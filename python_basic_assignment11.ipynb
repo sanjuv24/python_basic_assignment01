{
  "nbformat": 4,
  "nbformat_minor": 0,
  "metadata": {
    "colab": {
      "provenance": []
    },
    "kernelspec": {
      "name": "python3",
      "display_name": "Python 3"
    },
    "language_info": {
      "name": "python"
    }
  },
  "cells": [
    {
      "cell_type": "code",
      "execution_count": null,
      "metadata": {
        "colab": {
          "base_uri": "https://localhost:8080/",
          "height": 783
        },
        "id": "QTrpFiCgq4ne",
        "outputId": "d4b15703-a3b0-423e-8b1e-a3d62ea3052a"
      },
      "outputs": [
        {
          "output_type": "stream",
          "name": "stdout",
          "text": [
            "File opened successfully.\n",
            "1. What is the role of the 'else' block in a try-except statement? Provide an example\n",
            "scenario where it would be useful.\n",
            "2. Can a try-except block be nested inside another try-except block? Explain with an\n",
            "example.\n",
            "3. How can you create a custom exception class in Python? Provide an example that\n",
            "demonstrates its usage.\n",
            "4. What are some common exceptions that are built-in to Python?\n",
            "5. What is logging in Python, and why is it important in software development?\n",
            "6. Explain the purpose of log levels in Python logging and provide examples of when\n",
            "each log level would be appropriate.\n",
            "7. What are log formatters in Python logging, and how can you customise the log\n",
            "message format using formatters?\n",
            "8. How can you set up logging to capture log messages from multiple modules or\n",
            "classes in a Python application?\n",
            "9. What is the difference between the logging and print statements in Python? When\n",
            "should you use logging over print statements in a real-world application?\n",
            "10. Write a Python program that logs a message to a file named \"app.log\" with the\n",
            "following requirements:\n",
            "● The log message should be \"Hello, World!\"\n",
            "● The log level should be set to \"INFO.\"\n",
            "● The log file should append new log entries without overwriting previous ones.\n",
            "11. Create a Python program that logs an error message to the console and a file named\n",
            "\"errors.log\" if an exception occurs during the program's execution. The error\n",
            "message should include the exception type and a timestamp.\n"
          ]
        },
        {
          "output_type": "error",
          "ename": "Exception",
          "evalue": "division by zero",
          "traceback": [
            "\u001b[0;31m---------------------------------------------------------------------------\u001b[0m",
            "\u001b[0;31mZeroDivisionError\u001b[0m                         Traceback (most recent call last)",
            "\u001b[0;32m<ipython-input-7-8e0611646db5>\u001b[0m in \u001b[0;36m<cell line: 15>\u001b[0;34m()\u001b[0m\n\u001b[1;32m     15\u001b[0m \u001b[0;32mtry\u001b[0m\u001b[0;34m:\u001b[0m\u001b[0;34m\u001b[0m\u001b[0;34m\u001b[0m\u001b[0m\n\u001b[0;32m---> 16\u001b[0;31m   \u001b[0ma\u001b[0m\u001b[0;34m=\u001b[0m\u001b[0;36m2\u001b[0m\u001b[0;34m/\u001b[0m\u001b[0;36m0\u001b[0m\u001b[0;34m\u001b[0m\u001b[0;34m\u001b[0m\u001b[0m\n\u001b[0m\u001b[1;32m     17\u001b[0m \u001b[0;32mexcept\u001b[0m \u001b[0mException\u001b[0m \u001b[0;32mas\u001b[0m \u001b[0mqe\u001b[0m\u001b[0;34m:\u001b[0m\u001b[0;34m\u001b[0m\u001b[0;34m\u001b[0m\u001b[0m\n",
            "\u001b[0;31mZeroDivisionError\u001b[0m: division by zero",
            "\nDuring handling of the above exception, another exception occurred:\n",
            "\u001b[0;31mException\u001b[0m                                 Traceback (most recent call last)",
            "\u001b[0;32m<ipython-input-7-8e0611646db5>\u001b[0m in \u001b[0;36m<cell line: 15>\u001b[0;34m()\u001b[0m\n\u001b[1;32m     16\u001b[0m   \u001b[0ma\u001b[0m\u001b[0;34m=\u001b[0m\u001b[0;36m2\u001b[0m\u001b[0;34m/\u001b[0m\u001b[0;36m0\u001b[0m\u001b[0;34m\u001b[0m\u001b[0;34m\u001b[0m\u001b[0m\n\u001b[1;32m     17\u001b[0m \u001b[0;32mexcept\u001b[0m \u001b[0mException\u001b[0m \u001b[0;32mas\u001b[0m \u001b[0mqe\u001b[0m\u001b[0;34m:\u001b[0m\u001b[0;34m\u001b[0m\u001b[0;34m\u001b[0m\u001b[0m\n\u001b[0;32m---> 18\u001b[0;31m   \u001b[0;32mraise\u001b[0m \u001b[0mException\u001b[0m \u001b[0;34m(\u001b[0m\u001b[0mstr\u001b[0m\u001b[0;34m(\u001b[0m\u001b[0mqe\u001b[0m\u001b[0;34m)\u001b[0m\u001b[0;34m)\u001b[0m\u001b[0;34m\u001b[0m\u001b[0;34m\u001b[0m\u001b[0m\n\u001b[0m",
            "\u001b[0;31mException\u001b[0m: division by zero"
          ]
        }
      ],
      "source": [
        "#1. What is the role of the 'else' block in a try-except statement? Provide an example scenario where it would be useful.\n",
        "#Ans:In a try-except statement, the else block is executed if the code inside the try block runs successfully and does not raise any exceptions.\n",
        "#Example:\n",
        "try:\n",
        "    file = open(\"file123.txt\", \"r\")\n",
        "except FileNotFoundError:\n",
        "    print(\"File not found.\")\n",
        "else:\n",
        "    print(\"File opened successfully.\")\n",
        "    content = file.read()\n",
        "    print(content)\n",
        "    file.close()\n",
        "\n",
        "\n"
      ]
    },
    {
      "cell_type": "code",
      "source": [
        "#2. Can a try-except block be nested inside another try-except block? Explain with an example.\n",
        "#Ans:Yes, a try-except block can be nested inside another try-except block. This allows for more fine-grained error handling, where different levels of code can handle different types of exceptions.\n",
        "\n",
        "#Example:\n",
        "try:\n",
        "    try:\n",
        "        num = int(input(\"Enter a number: \"))\n",
        "    except ValueError:\n",
        "        print(\"Invalid input. Please enter a valid number.\")\n",
        "    else:\n",
        "        result = 100 / num\n",
        "        print(\"Result:\", result)\n",
        "except ZeroDivisionError:\n",
        "    print(\"Cannot divide by zero.\")"
      ],
      "metadata": {
        "colab": {
          "base_uri": "https://localhost:8080/"
        },
        "id": "LDXJ1LoFrxvI",
        "outputId": "93a595b0-1d9e-4ea6-aa12-6b2039c40f47"
      },
      "execution_count": null,
      "outputs": [
        {
          "output_type": "stream",
          "name": "stdout",
          "text": [
            "Enter a number: 4\n",
            "Result: 25.0\n"
          ]
        }
      ]
    },
    {
      "cell_type": "code",
      "source": [
        "#3. How can you create a custom exception class in Python? Provide an example that demonstrates its usage.\n",
        "#Ans:To create a custom exception class in Python, define a new class that inherits from the built-in Exception class, then customize the behavior of exception class by adding methods or attributes specific to the needs.\n",
        "\n",
        "#Example\n",
        "class CustomError(Exception):\n",
        "    def __init__(self, message, code):\n",
        "        super().__init__(message)\n",
        "        self.code = code\n",
        "\n",
        "    def __str__(self):\n",
        "        return f\"CustomError: {self.code} - {self.args[0]}\"\n",
        "\n",
        "# Example usage\n",
        "try:\n",
        "    raise CustomError(\"Something went wrong\", 500)\n",
        "except CustomError as e:\n",
        "    print(e)\n",
        "#In this example, we define a custom exception class CustomError that takes a message and a code as arguments. We override the __str__ method to customize the string representation of the exception. When we raise CustomError, we pass the message and code, and then catch and print the exception."
      ],
      "metadata": {
        "colab": {
          "base_uri": "https://localhost:8080/"
        },
        "id": "CDGFbRYgslf0",
        "outputId": "02a578a2-1c93-409b-de3d-6a97b4f1cdb2"
      },
      "execution_count": null,
      "outputs": [
        {
          "output_type": "stream",
          "name": "stdout",
          "text": [
            "CustomError: 500 - Something went wrong\n"
          ]
        }
      ]
    },
    {
      "cell_type": "code",
      "source": [
        "#4. What are some common exceptions that are built-in to Python?\n",
        "#Ans:\n",
        "'''SyntaxError: Raised when there is a syntax error in the code.\n",
        "IndentationError: Raised when there is an incorrect indentation.\n",
        "TypeError: Raised when an operation or function is applied to an object of an inappropriate type.\n",
        "NameError: Raised when a local or global name is not found.\n",
        "ValueError: Raised when a function receives an argument of the correct type but with an inappropriate value.\n",
        "KeyError: Raised when a dictionary key is not found.\n",
        "IndexError: Raised when a sequence (e.g., list, tuple) index is out of range.\n",
        "FileNotFoundError: Raised when a file or directory is requested but cannot be found.\n",
        "ZeroDivisionError: Raised when division or modulo by zero occurs.etc.'''"
      ],
      "metadata": {
        "id": "QQ-dONevt3TJ"
      },
      "execution_count": null,
      "outputs": []
    },
    {
      "cell_type": "code",
      "source": [
        "#5. What is logging in Python, and why is it important in software development?\n",
        "#Ans:Logging in Python refers to the process of recording events, messages, and errors that occur during the execution of a program. The logging module in Python provides a flexible framework for logging messages, with different levels of severity (DEBUG, INFO, WARNING, ERROR, CRITICAL) to indicate the importance of each message.\n",
        "\n",
        "'''Logging is important in software development for several reasons:\n",
        "\n",
        "Debugging: Logging helps in debugging by providing information about the flow of execution and the state of the program at different points. It allows developers to track down issues and errors more easily.\n",
        "\n",
        "Monitoring: Logging enables monitoring of applications in production environments. By logging relevant information, such as performance metrics and errors, developers and system administrators can monitor the health and performance of the application.\n",
        "\n",
        "Auditing and Compliance: Logging can be used for auditing purposes to track user actions and system events. It is also important for compliance with regulations and standards that require logging and monitoring of certain activities.\n",
        "\n",
        "Troubleshooting: When users encounter issues with the application, logs can provide valuable information to help troubleshoot and resolve the problem quickly.\n",
        "\n",
        "Performance Optimization: Logging can be used to identify performance bottlenecks and optimize the performance of the application.'''"
      ],
      "metadata": {
        "id": "cr54TUaPuUhw"
      },
      "execution_count": null,
      "outputs": []
    },
    {
      "cell_type": "code",
      "source": [
        "#6. Explain the purpose of log levels in Python logging and provide examples of when each log level would be appropriate.\n",
        "#Ans:The purpose of log levels is to provide a way to filter and prioritize log messages. Developers can configure the logging system to log messages at a certain level or above, allowing them to control the amount of detail in the logs based on the context.\n",
        "\n",
        "'''Examples\n",
        "CRITICAL: Use this level for severe errors that require immediate attention, such as a critical system component failing.\n",
        "ERROR: Use this level for errors that need to be investigated but do not necessarily stop the application from functioning, such as a database query failing.\n",
        "WARNING: Use this level for potential issues that are not critical but should be monitored, such as deprecated function usage.\n",
        "INFO: Use this level for general information about the application's state or progress, such as startup messages or configuration details.\n",
        "DEBUG: Use this level for detailed debugging information that is useful for developers when diagnosing issues, such as variable values or function call traces.\n",
        "By using log levels appropriately, developers can ensure that the logs provide the right amount of information for monitoring, debugging, and troubleshooting the application.'''\n",
        "\n",
        "\n",
        "\n",
        "\n"
      ],
      "metadata": {
        "id": "p3Ct7GblvA86"
      },
      "execution_count": null,
      "outputs": []
    },
    {
      "cell_type": "code",
      "source": [
        "#7. What are log formatters in Python logging, and how can you customise the log message format using formatters?\n",
        "#Ans:Log formatters in Python logging are used to define the structure and content of log messages. They allow us to customize the way log messages are formatted, including the timestamp, log level, message content, and any other relevant information.\n",
        "\n",
        "#The logging module in Python provides the Formatter class, which is used to create custom log message formats.\n",
        "#Example\n",
        "import logging\n",
        "\n",
        "# Create a custom formatter\n",
        "formatter = logging.Formatter('%(asctime)s - %(levelname)s - %(message)s')\n",
        "\n",
        "# Create a logger and set the formatter\n",
        "logger = logging.getLogger('custom_logger')\n",
        "handler = logging.StreamHandler()\n",
        "handler.setFormatter(formatter)\n",
        "logger.addHandler(handler)\n",
        "\n",
        "# Log messages\n",
        "logger.setLevel(logging.DEBUG)\n",
        "logger.debug('This is a debug message')\n",
        "logger.info('This is an info message')\n",
        "logger.warning('This is a warning message')\n",
        "logger.error('This is an error message')\n",
        "logger.critical('This is a critical message')\n",
        "#In this example, the Formatter class is used to create a custom format for log messages. The format string '%(asctime)s - %(levelname)s - %(message)s' specifies that each log message should include the timestamp (asctime), log level (levelname), and message content (message). This custom formatter is then applied to a logger using a StreamHandler, which sends log messages to the console.\n",
        "\n"
      ],
      "metadata": {
        "colab": {
          "base_uri": "https://localhost:8080/"
        },
        "id": "Ri6fN5A4v7k_",
        "outputId": "0fbaea95-89bf-4773-857c-d6ed9f5ac2a2"
      },
      "execution_count": null,
      "outputs": [
        {
          "output_type": "stream",
          "name": "stderr",
          "text": [
            "2024-02-19 19:09:24,046 - DEBUG - This is a debug message\n",
            "DEBUG:custom_logger:This is a debug message\n",
            "2024-02-19 19:09:24,051 - INFO - This is an info message\n",
            "INFO:custom_logger:This is an info message\n",
            "2024-02-19 19:09:24,056 - WARNING - This is a warning message\n",
            "WARNING:custom_logger:This is a warning message\n",
            "2024-02-19 19:09:24,059 - ERROR - This is an error message\n",
            "ERROR:custom_logger:This is an error message\n",
            "2024-02-19 19:09:24,062 - CRITICAL - This is a critical message\n",
            "CRITICAL:custom_logger:This is a critical message\n"
          ]
        }
      ]
    },
    {
      "cell_type": "code",
      "source": [
        "#8. How can you set up logging to capture log messages from multiple modules or classes in a Python application?\n",
        "#Ans:Steps:\n",
        "'''Import the logging module: First, import the logging module in the application.\n",
        "\n",
        "Configure the logging settings: Configure the logging settings, such as the log level and format using basicConfig or by creating a custom logger configuration.\n",
        "\n",
        "Add logging calls in modules or classes: Add logging calls (logging.debug(), logging.info(), logging.warning(), logging.error(), logging.critical()) your modules or classes to log messages.\n",
        "\n",
        "Example:'''\n",
        "import logging\n",
        "\n",
        "# Configure the logging settings\n",
        "logging.basicConfig(level=logging.DEBUG, format='%(asctime)s - %(name)s - %(levelname)s - %(message)s')\n",
        "\n",
        "# Create a logger for a specific module or class\n",
        "logger = logging.getLogger(__name__)\n",
        "\n",
        "# Example logging calls\n",
        "logger.debug('Debug message')\n",
        "logger.info('Info message')\n",
        "logger.warning('Warning message')\n",
        "logger.error('Error message')\n",
        "logger.critical('Critical message')\n",
        "#This setup will capture log messages from all modules or classes that use the logging calls and will output them according to the configured settings.\n",
        "\n",
        "\n"
      ],
      "metadata": {
        "colab": {
          "base_uri": "https://localhost:8080/"
        },
        "id": "ISdaC-bMxDwW",
        "outputId": "fbaa8909-9b15-43ed-b2d5-0996c5e639f7"
      },
      "execution_count": 1,
      "outputs": [
        {
          "output_type": "stream",
          "name": "stderr",
          "text": [
            "WARNING:__main__:Warning message\n",
            "ERROR:__main__:Error message\n",
            "CRITICAL:__main__:Critical message\n"
          ]
        }
      ]
    },
    {
      "cell_type": "code",
      "source": [
        "#9. What is the difference between the logging and print statements in Python? When should you use logging over print statements in a real-world application?\n",
        "#Ans:Logging:\n",
        "\n",
        "'''Purpose: Logging is used to record information about the execution of a program. It is particularly useful for tracking events, debugging, and monitoring the application's behavior.\n",
        "Features: Supports different log levels (DEBUG, INFO, WARNING, ERROR, CRITICAL), log handlers (e.g., files, streams), and formatters (e.g., formatting log messages).\n",
        "Use cases: Best suited for production code where you need structured and configurable logging.\n",
        "\n",
        "Print Statements:\n",
        "\n",
        "Purpose: Print statements are primarily used to display information to the console during development and debugging.\n",
        "Features: Simple and straightforward output to the console.\n",
        "Use cases: Suitable for quick debugging or displaying simple messages, but not ideal for long-term logging or monitoring.\n",
        "\n",
        "\n",
        "\n",
        "When to use logging over print statements:\n",
        "\n",
        "Complexity: For complex applications where we need structured logs with different levels of severity.\n",
        "Debugging: When we need detailed information about the application's behavior, especially in production environments.\n",
        "Maintenance: Logging provides better maintainability, as we can easily disable or change log levels without modifying the code.\n",
        "Deployment: For deploying applications in production, logging is essential for tracking errors and monitoring performance.\n",
        "\n"
      ],
      "metadata": {
        "id": "ttfFxFa5KNjt"
      },
      "execution_count": null,
      "outputs": []
    },
    {
      "cell_type": "code",
      "source": [
        "'''10. Write a Python program that logs a message to a file named \"app.log\" with the following requirements:\n",
        "● The log message should be \"Hello, World!\"\n",
        "● The log level should be set to \"INFO.\"\n",
        "● The log file should append new log entries without overwriting previous ones.'''\n",
        "#Ans:\n",
        "import logging\n",
        "\n",
        "# Configure logging to write to a file\n",
        "logging.basicConfig(filename='app.log', level=logging.INFO, format='%(asctime)s - %(message)s', filemode='a')\n",
        "\n",
        "# Log the message\n",
        "logging.info('Hello, World!')\n"
      ],
      "metadata": {
        "id": "10rGBqoGVWOu"
      },
      "execution_count": 2,
      "outputs": []
    },
    {
      "cell_type": "code",
      "source": [
        "#11. Create a Python program that logs an error message to the console and a file named \"errors.log\" if an exception occurs during the program's execution. The error message should include the exception type and a timestamp.\n",
        "#Ans:\n",
        "import logging\n",
        "import sys\n",
        "import traceback\n",
        "from datetime import datetime\n",
        "\n",
        "# Configure logging to write to console and a file\n",
        "logging.basicConfig(level=logging.INFO, format='%(asctime)s - %(levelname)s - %(message)s', handlers=[logging.StreamHandler(sys.stdout), logging.FileHandler('errors.log', mode='a')])\n",
        "\n",
        "try:\n",
        "    # Code that may raise an exception\n",
        "    raise ValueError(\"An example exception occurred\")\n",
        "except Exception as e:\n",
        "    # Log the exception\n",
        "    timestamp = datetime.now().strftime(\"%Y-%m-%d %H:%M:%S\")\n",
        "    error_msg = f\"Exception type: {type(e).__name__}, Timestamp: {timestamp}\"\n",
        "    logging.error(error_msg)\n",
        "    logging.error(traceback.format_exc())"
      ],
      "metadata": {
        "colab": {
          "base_uri": "https://localhost:8080/"
        },
        "id": "6r4G1HheWyTw",
        "outputId": "d9a30198-9720-428d-a638-fa7c8b63e869"
      },
      "execution_count": 3,
      "outputs": [
        {
          "output_type": "stream",
          "name": "stderr",
          "text": [
            "ERROR:root:Exception type: ValueError, Timestamp: 2024-02-20 07:17:03\n",
            "ERROR:root:Traceback (most recent call last):\n",
            "  File \"<ipython-input-3-a1da8062dfce>\", line 13, in <cell line: 11>\n",
            "    raise ValueError(\"An example exception occurred\")\n",
            "ValueError: An example exception occurred\n",
            "\n"
          ]
        }
      ]
    }
  ]
}