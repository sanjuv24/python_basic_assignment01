{
  "nbformat": 4,
  "nbformat_minor": 0,
  "metadata": {
    "colab": {
      "provenance": []
    },
    "kernelspec": {
      "name": "python3",
      "display_name": "Python 3"
    },
    "language_info": {
      "name": "python"
    }
  },
  "cells": [
    {
      "cell_type": "code",
      "execution_count": null,
      "metadata": {
        "colab": {
          "base_uri": "https://localhost:8080/"
        },
        "id": "fVna4dP_y7Qx",
        "outputId": "95393fac-e18c-4ec2-d350-46446e3573c6"
      },
      "outputs": [
        {
          "output_type": "stream",
          "name": "stdout",
          "text": [
            "False\n",
            "None\n",
            "True\n",
            "and\n",
            "as\n",
            "assert\n",
            "async\n",
            "await\n",
            "break\n",
            "class\n",
            "continue\n",
            "def\n",
            "del\n",
            "elif\n",
            "else\n",
            "except\n",
            "finally\n",
            "for\n",
            "from\n",
            "global\n",
            "if\n",
            "import\n",
            "in\n",
            "is\n",
            "lambda\n",
            "nonlocal\n",
            "not\n",
            "or\n",
            "pass\n",
            "raise\n",
            "return\n",
            "try\n",
            "while\n",
            "with\n",
            "yield\n"
          ]
        }
      ],
      "source": [
        "'''Q.1. What are keywords in python? Using the keyword library, print all the python keywords.\n",
        "Ans:Keywords are reserved words that are used to define the syntax and structure of the language. These keywords cannot be used as identifiers (e.g., variable names, function names, etc.)in program.\n",
        "We can use the keyword module in Python to get a list of all keywords. '''\n",
        "\n",
        "import keyword\n",
        "\n",
        "keywords = keyword.kwlist # Get all the keywords\n",
        "\n",
        "for keyword in keywords:\n",
        "    print(keyword) # Print all the keywords\n"
      ]
    },
    {
      "cell_type": "code",
      "source": [
        "Q.2. What are the rules to create variables in python?\n",
        "Ans:variables are used to store data values. The rules for creating variables in Python are:\n",
        "\n",
        "Variable Name: A variable name must start with a letter (a-z, A-Z) or an underscore (_). It can contain letters, digits (0-9), and underscores.\n",
        "\n",
        "Case-sensitive: Python is case-sensitive, myVar, myvar, and MYVAR are all different variables.\n",
        "\n",
        "Keywords: we cannot use reserved keywords as variable names. For example, we cannot use if, else, for, while, etc., as variable names.\n",
        "\n",
        "Whitespace: Variable names cannot contain whitespace characters.\n",
        "\n",
        "\n",
        "Convention: Use snake_case for variable names (e.g., my_variable) to improve readability, especially for longer variable names.\n",
        "Examples of valid variable names:\n",
        "\n",
        "my_var\n",
        "_myVar\n",
        "myVar2\n"
      ],
      "metadata": {
        "id": "Sr7uWYcTzz6h"
      },
      "execution_count": null,
      "outputs": []
    },
    {
      "cell_type": "code",
      "source": [
        "Q.3. What are the standards and conventions followed for the nomenclature of variables in python to improve code readability and maintainability?\n",
        "Ans:The standards and conventions for naming variables in Python include:\n",
        "\n",
        "Snake Case: Use lowercase letters with underscores to separate words (e.g., my_variable_name).\n",
        "\n",
        "CamelCase: Start each word with a capital letter except the first, without spaces or underscores (e.g., myVariableName).\n",
        "\n",
        "ALL_CAPS: Use all uppercase letters with underscores between words for constants (e.g., MY_CONSTANT_VALUE).\n",
        "\n",
        "Descriptive Names: Use meaningful and descriptive names to indicate purpose or content.\n",
        "\n",
        "Avoid Single-letter Names: Except for specific cases like loop counters, to avoid confusion.\n",
        "\n",
        "Consistency: Use the same naming convention throughout your codebase.\n",
        "\n",
        "Avoid Reserved Words: Do not use Python reserved keywords as variable names.\n",
        "\n",
        "Avoid Abbreviations: Use full words instead of excessive abbreviation for clarity.\n",
        "\n",
        "These conventions helps to improve the readability and maintainability of Python code.\n",
        "\n",
        "\n"
      ],
      "metadata": {
        "id": "JoI-KVkR0vQO"
      },
      "execution_count": null,
      "outputs": []
    },
    {
      "cell_type": "code",
      "source": [
        "'''Q.4. What will happen if a keyword is used as a variable name?\n",
        "Ans: It will result in a syntax error. '''\n",
        "import=12\n",
        "print(import)"
      ],
      "metadata": {
        "colab": {
          "base_uri": "https://localhost:8080/",
          "height": 106
        },
        "id": "hwkGN1Mw1lQB",
        "outputId": "3510199d-628a-4a55-a46f-3b89467685c8"
      },
      "execution_count": 19,
      "outputs": [
        {
          "output_type": "error",
          "ename": "SyntaxError",
          "evalue": "invalid syntax (<ipython-input-19-4936cab4f3f5>, line 3)",
          "traceback": [
            "\u001b[0;36m  File \u001b[0;32m\"<ipython-input-19-4936cab4f3f5>\"\u001b[0;36m, line \u001b[0;32m3\u001b[0m\n\u001b[0;31m    import=12\u001b[0m\n\u001b[0m          ^\u001b[0m\n\u001b[0;31mSyntaxError\u001b[0m\u001b[0;31m:\u001b[0m invalid syntax\n"
          ]
        }
      ]
    },
    {
      "cell_type": "code",
      "source": [
        "Q.5. For what purpose def keyword is used?\n",
        "Ans:The def keyword is used to define a function."
      ],
      "metadata": {
        "id": "uX8722Yt2OBr"
      },
      "execution_count": null,
      "outputs": []
    },
    {
      "cell_type": "code",
      "source": [
        "Q.6. What is the operation of this special character ‘\\’?\n",
        "Ans:The backslash (\\) is used as an escape character. It is used to indicate that the character following it has a special meaning. It is commonly used for escape sequences, splitting long statements into multiple lines, including special characters in strings, and creating raw strings.\n",
        "\n"
      ],
      "metadata": {
        "id": "_s-GEreO3Kph"
      },
      "execution_count": null,
      "outputs": []
    },
    {
      "cell_type": "code",
      "source": [
        "'''Q.7. Give an example of the following conditions:\n",
        "(i) Homogeneous list\n",
        "(ii) Heterogeneous set\n",
        "(iii) Homogeneous tuple'''\n",
        "\n",
        "#Ans:(i) Homogeneous list: A list containing elements of the same type.\n",
        "list1 = [1, 2, 3, 4, 5]\n",
        "print(list1)\n",
        "\n",
        " #(ii) Heterogeneous set: A set containing elements of different types.\n",
        "set1 = {1, \"apple\", 3.14, (1, 2, 3)}\n",
        "print(set1)\n",
        " #(iii) Homogeneous tuple: A tuple containing elements of the same type.\n",
        "tuple1 = (10, 20, 30, 40, 50)\n",
        "print(tuple1)\n",
        "\n",
        "\n"
      ],
      "metadata": {
        "colab": {
          "base_uri": "https://localhost:8080/"
        },
        "id": "Rwi3BtOa42YV",
        "outputId": "7db0d8d9-212e-42fd-82b7-eb1aa7fedf2a"
      },
      "execution_count": null,
      "outputs": [
        {
          "output_type": "stream",
          "name": "stdout",
          "text": [
            "[1, 2, 3, 4, 5]\n",
            "{1, 3.14, 'apple', (1, 2, 3)}\n",
            "(10, 20, 30, 40, 50)\n"
          ]
        }
      ]
    },
    {
      "cell_type": "code",
      "source": [
        "'''Q.8. Explain the mutable and immutable data types with proper explanation & examples.\n",
        "Ans: Data types can be classified as mutable or immutable based on whether their values can be changed after they are created.\n",
        "\n",
        "Mutable Data Types:\n",
        "\n",
        "Mutable objects can be modified after they are created.\n",
        "When we modify a mutable object, the changes are reflected in the original object.\n",
        "Examples of mutable data types in Python include lists, dictionaries, sets, and user-defined classes (unless explicitly made immutable).\n",
        "Example:'''\n",
        "list1 = [1, 2, 3, 4, 5]  # list\n",
        "dict1 = {'a': 1, 'b': 2, 'c': 3}  # dictionary\n",
        "set1 = {1, 2, 3, 4, 5}  # set\n",
        "\n",
        "# Modifying a mutable object\n",
        "list1[0] = 10\n",
        "dict1['a'] = 100\n",
        "set1.add(6)\n",
        "\n",
        "print(list1)  # Output: [10, 2, 3, 4, 5]\n",
        "print(dict1)  # Output: {'a': 100, 'b': 2, 'c': 3}\n",
        "print(set1)   # Output: {1, 2, 3, 4, 5, 6}\n",
        "\n",
        "'''Immutable Data Types:\n",
        "\n",
        "Immutable objects cannot be modified after they are created.\n",
        "When we try to modify an immutable object, Python creates a new object instead of modifying the original one.\n",
        "Examples of immutable data types in Python include integers, floats, strings, tuples, and frozensets.\n",
        "Example:'''\n",
        "x = 10  # integer\n",
        "y = \"hello\"  # string\n",
        "z = (1, 2, 3)  # tuple\n",
        "\n",
        "# Attempting to modify an immutable object raises an error\n",
        "x[0] = 5  # Raises TypeError: 'int' object does not support item assignment\n",
        "y[0] = \"H\"  # Raises TypeError: 'str' object does not support item assignment\n",
        "z[0] = 4  # Raises TypeError: 'tuple' object does not support item assignment\n",
        "\n"
      ],
      "metadata": {
        "colab": {
          "base_uri": "https://localhost:8080/",
          "height": 297
        },
        "id": "mmEzo5HD5sKu",
        "outputId": "40cee709-79b2-40ea-dd66-9fab65315bd1"
      },
      "execution_count": null,
      "outputs": [
        {
          "output_type": "stream",
          "name": "stdout",
          "text": [
            "[10, 2, 3, 4, 5]\n",
            "{'a': 100, 'b': 2, 'c': 3}\n",
            "{1, 2, 3, 4, 5, 6}\n"
          ]
        },
        {
          "output_type": "error",
          "ename": "TypeError",
          "evalue": "'int' object does not support item assignment",
          "traceback": [
            "\u001b[0;31m---------------------------------------------------------------------------\u001b[0m",
            "\u001b[0;31mTypeError\u001b[0m                                 Traceback (most recent call last)",
            "\u001b[0;32m<ipython-input-7-92e11ef2b2f1>\u001b[0m in \u001b[0;36m<cell line: 34>\u001b[0;34m()\u001b[0m\n\u001b[1;32m     32\u001b[0m \u001b[0;34m\u001b[0m\u001b[0m\n\u001b[1;32m     33\u001b[0m \u001b[0;31m# Attempting to modify an immutable object raises an error\u001b[0m\u001b[0;34m\u001b[0m\u001b[0;34m\u001b[0m\u001b[0m\n\u001b[0;32m---> 34\u001b[0;31m \u001b[0mx\u001b[0m\u001b[0;34m[\u001b[0m\u001b[0;36m0\u001b[0m\u001b[0;34m]\u001b[0m \u001b[0;34m=\u001b[0m \u001b[0;36m5\u001b[0m  \u001b[0;31m# Raises TypeError: 'int' object does not support item assignment\u001b[0m\u001b[0;34m\u001b[0m\u001b[0;34m\u001b[0m\u001b[0m\n\u001b[0m\u001b[1;32m     35\u001b[0m \u001b[0my\u001b[0m\u001b[0;34m[\u001b[0m\u001b[0;36m0\u001b[0m\u001b[0;34m]\u001b[0m \u001b[0;34m=\u001b[0m \u001b[0;34m\"H\"\u001b[0m  \u001b[0;31m# Raises TypeError: 'str' object does not support item assignment\u001b[0m\u001b[0;34m\u001b[0m\u001b[0;34m\u001b[0m\u001b[0m\n\u001b[1;32m     36\u001b[0m \u001b[0mz\u001b[0m\u001b[0;34m[\u001b[0m\u001b[0;36m0\u001b[0m\u001b[0;34m]\u001b[0m \u001b[0;34m=\u001b[0m \u001b[0;36m4\u001b[0m  \u001b[0;31m# Raises TypeError: 'tuple' object does not support item assignment\u001b[0m\u001b[0;34m\u001b[0m\u001b[0;34m\u001b[0m\u001b[0m\n",
            "\u001b[0;31mTypeError\u001b[0m: 'int' object does not support item assignment"
          ]
        }
      ]
    },
    {
      "cell_type": "code",
      "source": [
        "'''Q.9. Write a code to create the given structure using only for loop.\n",
        "*\n",
        "***\n",
        "*****\n",
        "*******\n",
        "*********\n",
        "Ans:'''\n",
        "n= 5 #number of lines\n",
        "\n",
        "for i in range(1,n+1):\n",
        "  for j in range(1,2*i):\n",
        "    print(\"*\",end=\"\")\n",
        "    #print(\"i = \", i , \" j = \", j)\n",
        "  print()\n",
        "\n",
        "\n",
        "# # Loop over each line\n",
        "# for i in range(1, n ):\n",
        "#    for j in range(0, 2*i): # Print asterisks for the current line\n",
        "#         print(\"*\", end=\"\")\n",
        "#         # Move to the next line after printing asterisks\n"
      ],
      "metadata": {
        "colab": {
          "base_uri": "https://localhost:8080/"
        },
        "id": "CBpFMKfi-Axw",
        "outputId": "235e3511-65e1-4255-c3d4-e64f4fd6babc"
      },
      "execution_count": 18,
      "outputs": [
        {
          "output_type": "stream",
          "name": "stdout",
          "text": [
            "*\n",
            "***\n",
            "*****\n",
            "*******\n",
            "*********\n"
          ]
        }
      ]
    },
    {
      "cell_type": "code",
      "source": [
        "'''Q.10. Write a code to create the given structure using while loop.\n",
        "|||||||||\n",
        "|||||||\n",
        "|||||\n",
        "|||\n",
        "|\n",
        "Ans:'''\n",
        "rows = 5\n",
        "while rows >= 1:\n",
        "    columns = rows*2-1\n",
        "    while columns > 0:\n",
        "        #print(\"value of columns = \", columns,end=\"\")\n",
        "        print(\"|\", end=\"\")\n",
        "        columns -= 1\n",
        "\n",
        "    print()\n",
        "    rows -= 1\n",
        "\n"
      ],
      "metadata": {
        "colab": {
          "base_uri": "https://localhost:8080/"
        },
        "id": "Lf4bcsfqAx8T",
        "outputId": "2741c5cb-15be-4d74-b45f-9a042a8c5827"
      },
      "execution_count": 17,
      "outputs": [
        {
          "output_type": "stream",
          "name": "stdout",
          "text": [
            "|||||||||\n",
            "|||||||\n",
            "|||||\n",
            "|||\n",
            "|\n"
          ]
        }
      ]
    }
  ]
}