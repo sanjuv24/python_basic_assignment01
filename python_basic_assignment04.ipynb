{
  "nbformat": 4,
  "nbformat_minor": 0,
  "metadata": {
    "colab": {
      "provenance": []
    },
    "kernelspec": {
      "name": "python3",
      "display_name": "Python 3"
    },
    "language_info": {
      "name": "python"
    }
  },
  "cells": [
    {
      "cell_type": "code",
      "execution_count": null,
      "metadata": {
        "id": "SSYI1CYINe9E"
      },
      "outputs": [],
      "source": [
        "1. What exactly is []?\n",
        "Ans: It represents an empty list"
      ]
    },
    {
      "cell_type": "code",
      "source": [
        "'''2. In a list of values stored in a variable called spam, how would you assign the value 'hello' as the\n",
        "third value? (Assume [2, 4, 6, 8, 10] are in spam.)\n",
        "Ans: By indexing to access the third element (index 2) and then assign the value 'hello' to it. '''\n",
        "spam=[2,4,6,8,10]\n",
        "spam[2]='hello'\n",
        "print(spam)"
      ],
      "metadata": {
        "colab": {
          "base_uri": "https://localhost:8080/"
        },
        "id": "GdQGM5RrONhO",
        "outputId": "8f383675-9167-48cd-995f-9d27c2e0f08c"
      },
      "execution_count": null,
      "outputs": [
        {
          "output_type": "stream",
          "name": "stdout",
          "text": [
            "[2, 4, 'hello', 8, 10]\n"
          ]
        }
      ]
    },
    {
      "cell_type": "markdown",
      "source": [
        "Let's pretend the spam includes the list ['a','b','c','d'] for the next three queries."
      ],
      "metadata": {
        "id": "tRBpeq97Q1zE"
      }
    },
    {
      "cell_type": "code",
      "source": [
        "'''3. What is the value of spam[int(int('3' * 2) / 11)]?\n",
        "Ans:'''\n",
        "spam=['a','b','c','d']\n",
        "print(int('3' * 2))\n",
        "\n",
        "spam[int(int('3' * 2) / 11)]# spam[int(33/11)] = spam[3]"
      ],
      "metadata": {
        "colab": {
          "base_uri": "https://localhost:8080/",
          "height": 53
        },
        "id": "ZT-mTtWBROZU",
        "outputId": "9e311ab8-a639-46fb-e838-3a57c57a1238"
      },
      "execution_count": null,
      "outputs": [
        {
          "output_type": "stream",
          "name": "stdout",
          "text": [
            "33\n"
          ]
        },
        {
          "output_type": "execute_result",
          "data": {
            "text/plain": [
              "'d'"
            ],
            "application/vnd.google.colaboratory.intrinsic+json": {
              "type": "string"
            }
          },
          "metadata": {},
          "execution_count": 5
        }
      ]
    },
    {
      "cell_type": "code",
      "source": [
        "#4. What is the value of spam[-1]?\n",
        "#Ans:\n",
        "spam=['a','b','c','d']\n",
        "spam[-1]\n",
        "#spam[-1]=\"d\""
      ],
      "metadata": {
        "colab": {
          "base_uri": "https://localhost:8080/",
          "height": 36
        },
        "id": "4s8dklkhTmL1",
        "outputId": "1cf5c048-2df0-4c11-dc23-74da19edef70"
      },
      "execution_count": null,
      "outputs": [
        {
          "output_type": "execute_result",
          "data": {
            "text/plain": [
              "'d'"
            ],
            "application/vnd.google.colaboratory.intrinsic+json": {
              "type": "string"
            }
          },
          "metadata": {},
          "execution_count": 6
        }
      ]
    },
    {
      "cell_type": "code",
      "source": [
        "#5. What is the value of spam[:2]?\n",
        "#Ans:\n",
        "spam=['a','b','c','d']\n",
        "spam[:2] #output is ['a','b']\n"
      ],
      "metadata": {
        "colab": {
          "base_uri": "https://localhost:8080/"
        },
        "id": "nyqJ2CvJW1qF",
        "outputId": "2859bc70-927d-4e5e-c3e3-65f22d73c3e9"
      },
      "execution_count": null,
      "outputs": [
        {
          "output_type": "execute_result",
          "data": {
            "text/plain": [
              "['a', 'b']"
            ]
          },
          "metadata": {},
          "execution_count": 7
        }
      ]
    },
    {
      "cell_type": "markdown",
      "source": [
        "Let's pretend bacon has the list [3.14, 'cat', 11, 'cat', True] for the next three questions."
      ],
      "metadata": {
        "id": "D1bzQ7JiX4kU"
      }
    },
    {
      "cell_type": "code",
      "source": [
        "'''6. What is the value of bacon.index('cat')?\n",
        "Ans:'''\n",
        "bacon=[3.14, 'cat', 11, 'cat', True]\n",
        "bacon.index('cat')#output is the index of first occurance of 'cat'"
      ],
      "metadata": {
        "colab": {
          "base_uri": "https://localhost:8080/"
        },
        "id": "KfEisCv-YV5z",
        "outputId": "47dfb4c0-f40b-4d91-d2a9-9a8244c8b566"
      },
      "execution_count": null,
      "outputs": [
        {
          "output_type": "execute_result",
          "data": {
            "text/plain": [
              "1"
            ]
          },
          "metadata": {},
          "execution_count": 8
        }
      ]
    },
    {
      "cell_type": "code",
      "source": [
        "'''7. How does bacon.append(99) change the look of the list value in bacon?\n",
        "Ans:'''\n",
        "bacon=[3.14, 'cat', 11, 'cat', True]\n",
        "bacon.append(99)\n",
        "print(bacon)# append adds the item 99 at the end of the list bacon"
      ],
      "metadata": {
        "colab": {
          "base_uri": "https://localhost:8080/"
        },
        "id": "TK2Xk-FdZS4i",
        "outputId": "18534e07-a25a-4055-deb7-92c1b893b0fa"
      },
      "execution_count": null,
      "outputs": [
        {
          "output_type": "stream",
          "name": "stdout",
          "text": [
            "[3.14, 'cat', 11, 'cat', True, 99]\n"
          ]
        }
      ]
    },
    {
      "cell_type": "code",
      "source": [
        "'''8. How does bacon.remove('cat') change the look of the list in bacon?\n",
        "Ans:'''\n",
        "bacon=[3.14, 'cat', 11, 'cat', True]\n",
        "bacon.remove('cat')#it remove the first occurrence of item 'cat' in bacon\n",
        "print(bacon)"
      ],
      "metadata": {
        "colab": {
          "base_uri": "https://localhost:8080/"
        },
        "id": "fFtSjS4taRtq",
        "outputId": "85a0e9fe-e535-4d19-9dc7-185c595b5fb4"
      },
      "execution_count": null,
      "outputs": [
        {
          "output_type": "stream",
          "name": "stdout",
          "text": [
            "[3.14, 11, 'cat', True]\n"
          ]
        }
      ]
    },
    {
      "cell_type": "code",
      "source": [
        "'''9. What are the list concatenation and list replication operators?\n",
        "Ans:The list concatenation operator is +, and the list replication operator is *.\n",
        "\n",
        "List Concatenation Operator (+):\n",
        "The + operator is used to concatenate two or more lists together, creating a new list containing all the elements from the concatenated lists.'''\n",
        "list1 = [1, 2, 3]\n",
        "list2 = [4, 5, 6]\n",
        "concatenated_list = list1 + list2\n",
        "print(concatenated_list)  # Output: [1, 2, 3, 4, 5, 6]\n",
        "\n",
        "'''List Replication Operator (*):\n",
        "The * operator is used to replicate a list by a given factor, creating a new list containing repeated copies of the original list.'''\n",
        "original_list = [1, 2, 3]\n",
        "replicated_list = original_list * 3\n",
        "print(replicated_list)  # Output: [1, 2, 3, 1, 2, 3, 1, 2, 3]\n"
      ],
      "metadata": {
        "colab": {
          "base_uri": "https://localhost:8080/"
        },
        "id": "bZKTUhsGV-PW",
        "outputId": "71e18398-c314-4525-fe65-998b7328979a"
      },
      "execution_count": 1,
      "outputs": [
        {
          "output_type": "stream",
          "name": "stdout",
          "text": [
            "[1, 2, 3, 4, 5, 6]\n",
            "[1, 2, 3, 1, 2, 3, 1, 2, 3]\n"
          ]
        }
      ]
    },
    {
      "cell_type": "code",
      "source": [
        "'''10. What is difference between the list methods append() and insert()?\n",
        "Ans:Append() adds an element to the end of the list, while insert() allows you to specify the position where the element should be inserted.\n",
        "append()'''\n",
        "my_list = [1, 2, 3]\n",
        "my_list.append(4)\n",
        "print(my_list)  # Output: [1, 2, 3, 4]\n",
        "\n",
        "#insert()\n",
        "my_list = [1, 2, 3]\n",
        "my_list.insert(2, 5)  # Insert 5 at index 2\n",
        "print(my_list)  # Output: [1, 2, 5, 3]\n",
        "\n",
        "\n"
      ],
      "metadata": {
        "colab": {
          "base_uri": "https://localhost:8080/"
        },
        "id": "Ot7kBuJkXO9J",
        "outputId": "63c773b8-fdf6-4cb1-cf0c-70a076b8462e"
      },
      "execution_count": 2,
      "outputs": [
        {
          "output_type": "stream",
          "name": "stdout",
          "text": [
            "[1, 2, 3, 4]\n",
            "[1, 2, 5, 3]\n"
          ]
        }
      ]
    },
    {
      "cell_type": "code",
      "source": [
        "'''11. What are the two methods for removing items from a list?\n",
        "Ans:remove() and pop() are the two methods for removing items from a list.\n",
        "\n",
        "remove() removes the first occurrence of a value:'''\n",
        "my_list = [1, 2, 3, 2, 4]\n",
        "my_list.remove(2)  # Remove the first occurrence of 2\n",
        "print(my_list)  # Output: [1, 3, 2, 4]\n",
        "\n",
        "#pop() removes an element based on its index and returns its value.\n",
        "my_list= [1, 2, 3, 4]\n",
        "popped_element = my_list.pop(1)  # Remove the element at index 1 (value 2)\n",
        "print(my_list)  # Output: [1, 3, 4]\n",
        "print(popped_element)  # Output: 2"
      ],
      "metadata": {
        "colab": {
          "base_uri": "https://localhost:8080/"
        },
        "id": "cS3KEwaxYM62",
        "outputId": "362e30b8-fa96-4502-b982-36aa00f325ed"
      },
      "execution_count": 3,
      "outputs": [
        {
          "output_type": "stream",
          "name": "stdout",
          "text": [
            "[1, 3, 2, 4]\n",
            "[1, 3, 4]\n",
            "2\n"
          ]
        }
      ]
    },
    {
      "cell_type": "code",
      "source": [
        "12. Describe how list values and string values are identical.\n",
        "Ans:List values and string values in Python are identical in that they are both sequential data types that support indexing, slicing, iterability, and have a length."
      ],
      "metadata": {
        "id": "cbmgKimWZgGK"
      },
      "execution_count": null,
      "outputs": []
    },
    {
      "cell_type": "code",
      "source": [
        "13. What's the difference between tuples and lists?\n",
        "Ans:The main differences between tuples and lists are their mutability, syntax, performance characteristics, and typical use cases.\n",
        "Lists are mutable, defined with square brackets, and are generally used for operations involving modification.\n",
        "Tuples are immutable, defined with parentheses, and are often used for data that should not change.\n"
      ],
      "metadata": {
        "id": "Oirs45KCam81"
      },
      "execution_count": null,
      "outputs": []
    },
    {
      "cell_type": "code",
      "source": [
        "'''14. How do you type a tuple value that only contains the integer 42?\n",
        "Ans:To type a tuple value that only contains the integer 42,  use parentheses () with the integer value inside:'''\n",
        "a=(42,)\n",
        "print(type(a))"
      ],
      "metadata": {
        "colab": {
          "base_uri": "https://localhost:8080/"
        },
        "id": "CSBygzi3bHTL",
        "outputId": "b2d96faf-ccf1-4f21-9d96-4fedb995f686"
      },
      "execution_count": 24,
      "outputs": [
        {
          "output_type": "stream",
          "name": "stdout",
          "text": [
            "<class 'tuple'>\n"
          ]
        }
      ]
    },
    {
      "cell_type": "code",
      "source": [
        "'''15. How do you get a list value's tuple form? How do you get a tuple value's list form?\n",
        "Ans:To convert a list to a tuple in Python, use the tuple() constructor.\n",
        "This function takes an iterable (such as a list) as its argument and returns a tuple containing the elements of the iterable.'''\n",
        "\n",
        "my_list1 = [1, 2, 3, 4]\n",
        "my_tuple1 = tuple(my_list1)\n",
        "print(my_tuple1)  # Output: (1, 2, 3, 4)\n",
        "\n",
        "'''To convert a tuple to a list in Python,use the list() constructor.\n",
        "This function takes an iterable (such as a tuple) as its argument and returns a list containing the elements of the iterable.'''\n",
        "\n",
        "tuple2 = (1, 2, 3, 4)\n",
        "list2 = list(tuple2)\n",
        "print(list2)  # Output: [1, 2, 3, 4]"
      ],
      "metadata": {
        "id": "SEtNohtykhVQ"
      },
      "execution_count": null,
      "outputs": []
    },
    {
      "cell_type": "code",
      "source": [
        "16. Variables that \"contain\" list values are not necessarily lists themselves. Instead, what do they contain?\n",
        "Ans:They contain references to the list in memory."
      ],
      "metadata": {
        "id": "TKgTUe0MkivJ"
      },
      "execution_count": null,
      "outputs": []
    },
    {
      "cell_type": "code",
      "source": [
        "'''17. How do you distinguish between copy.copy() and copy.deepcopy()?\n",
        "Ans:\n",
        "copy.copy():\n",
        "\n",
        "copy.copy() creates a shallow copy of an object.\n",
        "A shallow copy creates a new object and inserts references to the original object's elements into the new object. However, it does not create copies of the nested objects themselves.\n",
        "If the original object contains mutable objects (e.g., lists or dictionaries), changes made to those mutable objects in the shallow copy will affect the original object.\n",
        "Shallow copies are useful when we need a new object with references to the same elements as the original, but you don't want changes to the elements in one object to affect the other.\n",
        "\n",
        "copy.deepcopy():\n",
        "\n",
        "copy.deepcopy() creates a deep copy of an object.\n",
        "A deep copy creates a new object and recursively inserts copies of the original object's elements into the new object.\n",
        "This includes creating copies of all nested objects, so changes made to the elements in the deep copy will not affect the original object.\n",
        "Deep copies are useful when you need a completely independent copy of an object, including copies of all nested objects.'''\n",
        "\n",
        "\n",
        "original_list = [[1, 2, 3], [4, 5, 6]]\n",
        "shallow_copy = copy.copy(original_list)\n",
        "deep_copy = copy.deepcopy(original_list)\n",
        "\n",
        "# Modify the nested list in the shallow copy\n",
        "shallow_copy[0][0] = 10\n",
        "\n",
        "print(original_list)  # Output: [[10, 2, 3], [4, 5, 6]]\n",
        "\n",
        "# Modify the nested list in the deep copy\n",
        "deep_copy[0][0] = 20\n",
        "\n",
        "print(original_list)  # Output: [[10, 2, 3], [4, 5, 6]]\n"
      ],
      "metadata": {
        "colab": {
          "base_uri": "https://localhost:8080/"
        },
        "id": "XNWc5Fvpmfwl",
        "outputId": "d34618b0-4c9c-4f49-aa91-4782e60ad858"
      },
      "execution_count": 31,
      "outputs": [
        {
          "output_type": "stream",
          "name": "stdout",
          "text": [
            "[[10, 2, 3], [4, 5, 6]]\n",
            "[[10, 2, 3], [4, 5, 6]]\n"
          ]
        }
      ]
    }
  ]
}