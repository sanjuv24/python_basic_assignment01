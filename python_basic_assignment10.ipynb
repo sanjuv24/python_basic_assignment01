{
  "nbformat": 4,
  "nbformat_minor": 0,
  "metadata": {
    "colab": {
      "provenance": []
    },
    "kernelspec": {
      "name": "python3",
      "display_name": "Python 3"
    },
    "language_info": {
      "name": "python"
    }
  },
  "cells": [
    {
      "cell_type": "code",
      "execution_count": null,
      "metadata": {
        "id": "i9xux2fBSbq8"
      },
      "outputs": [],
      "source": [
        "#1. What is the role of try and exception block?\n",
        "#Ans:\n",
        "The try and except block in Python is used for exception handling. It allows you to execute code that might raise an exception and handle that exception gracefully. The try block contains the code to be executed, and the except block catches and handles any exceptions that occur."
      ]
    },
    {
      "cell_type": "code",
      "source": [
        "#2. What is the syntax for a basic try-except block?\n",
        "#Ans:\n",
        "The basic syntax for a try-except block in Python is as follows:\n",
        "\n",
        "try:\n",
        "    # Code that may raise an exception\n",
        "    <code_block>\n",
        "except <ExceptionType>:\n",
        "    # Code to handle the exception\n",
        "    <handler_block>\n"
      ],
      "metadata": {
        "id": "aUXzGLLaTfpb"
      },
      "execution_count": null,
      "outputs": []
    },
    {
      "cell_type": "code",
      "source": [
        "#3. What happens if an exception occurs inside a try block and there is no matching except block?\n",
        "#Ans:If an exception occurs inside a try block and there is no matching except block to handle that exception, the exception will propagate up the call stack. This means that Python will continue to look for an appropriate exception handler in the calling code. If no handler is found, the program will terminate, and a traceback will be displayed, showing the line of code where the unhandled exception occurred."
      ],
      "metadata": {
        "id": "hs8nXiw1Ve3W"
      },
      "execution_count": null,
      "outputs": []
    },
    {
      "cell_type": "code",
      "source": [
        "#4. What is the difference between using a bare except block and specifying a specific exception type?\n",
        "#Ans:Using a specific exception type in a try-except block allows us to target only the exceptions we expect and handle them appropriately, while letting other exceptions propagate up the call stack. This approach is more robust and helps to write more maintainable code by clearly indicating which exceptions we are prepared to handle.\n",
        "\n",
        "#On the other hand, using a bare except block catches all exceptions, including those that you might not have anticipated. This can make debugging more challenging because unexpected exceptions might be caught and handled in ways that hide underlying issues in your code. It's generally recommended to be as specific as possible when catching exceptions to ensure that your code is handling errors effectively and not masking other problems.\n",
        "\n",
        "\n",
        "\n",
        "\n"
      ],
      "metadata": {
        "id": "RgX99yMXXDR2"
      },
      "execution_count": null,
      "outputs": []
    },
    {
      "cell_type": "code",
      "source": [
        "#5. Can you have nested try-except blocks in Python? If yes, then give an example.\n",
        "#Ans:Yes, we can have nested try-except blocks in Python. Means that we can have a try block inside another try block, and each try block can have its own except block(s) to handle exceptions.\n",
        "\n",
        "try:\n",
        "    # Outer try block\n",
        "    print(\"Outer try block\")\n",
        "    try:\n",
        "        # Inner try block\n",
        "        print(\"Inner try block\")\n",
        "        x = 1 / 0  # This will raise a ZeroDivisionError\n",
        "    except ZeroDivisionError:\n",
        "        # Inner except block\n",
        "        print(\"Inner except block: Division by zero\")\n",
        "    finally:\n",
        "        # Inner finally block\n",
        "        print(\"Inner finally block\")\n",
        "except:\n",
        "    # Outer except block\n",
        "    print(\"Outer except block\")\n",
        "finally:\n",
        "    # Outer finally block\n",
        "    print(\"Outer finally block\")\n",
        "#In this example, there are two try-except blocks: an outer one and an inner one. If an exception occurs in the inner try block (due to the division by zero), the inner except block handles it. Then, the inner finally block is executed. Finally, the control moves to the outer finally block, which is executed before the program exits.\n",
        "\n",
        "\n",
        "\n",
        "\n"
      ],
      "metadata": {
        "colab": {
          "base_uri": "https://localhost:8080/"
        },
        "id": "RduCLxAbY0_K",
        "outputId": "2ab8686a-d0b8-45a6-e5f5-f159ce66f1df"
      },
      "execution_count": 1,
      "outputs": [
        {
          "output_type": "stream",
          "name": "stdout",
          "text": [
            "Outer try block\n",
            "Inner try block\n",
            "Inner except block: Division by zero\n",
            "Inner finally block\n",
            "Outer finally block\n"
          ]
        }
      ]
    },
    {
      "cell_type": "code",
      "source": [
        "#6. Can we use multiple exception blocks, if yes then give an example.\n",
        "#Ans:Yes, we can use multiple except blocks to handle different types of exceptions in a single try block. Each except block can specify a different exception type to catch and handle.\n",
        "\n",
        "try:\n",
        "    # Code that may raise exceptions\n",
        "    x = int(input(\"Enter a number: \"))\n",
        "    result = 10 / x\n",
        "except ValueError:\n",
        "    # Handle the ValueError (e.g., if the user enters a non-integer value)\n",
        "    print(\"Invalid input. Please enter an integer.\")\n",
        "except ZeroDivisionError:\n",
        "    # Handle the ZeroDivisionError (e.g., if the user enters 0)\n",
        "    print(\"Division by zero is not allowed.\")\n",
        "except Exception as e:\n",
        "    # Handle any other type of exception\n",
        "    print(f\"An error occurred: {e}\")\n",
        "else:\n",
        "    # This block is executed if no exceptions occur\n",
        "    print(\"Division successful.\")\n",
        "finally:\n",
        "    # This block is always executed, regardless of whether an exception occurred\n",
        "    print(\"End of program.\")\n",
        "\n",
        "\n"
      ],
      "metadata": {
        "colab": {
          "base_uri": "https://localhost:8080/"
        },
        "id": "-Xo4-FDGaDeZ",
        "outputId": "20bb7c48-4df8-483b-8aab-7e0aa16dd507"
      },
      "execution_count": 2,
      "outputs": [
        {
          "output_type": "stream",
          "name": "stdout",
          "text": [
            "Enter a number: 3\n",
            "Division successful.\n",
            "End of program.\n"
          ]
        }
      ]
    },
    {
      "cell_type": "code",
      "source": [
        "'''7. Write the reason due to which following errors are raised:\n",
        "a. EOFError\n",
        "b. FloatingPointError\n",
        "c. IndexError\n",
        "d. MemoryError\n",
        "e. OverflowError\n",
        "f. TabError\n",
        "g. ValueError'''\n",
        "'''Ans:Here are the reasons why each of the listed errors might be raised in Python:\n",
        "\n",
        "a. EOFError: Raised when the input() function hits an end-of-file condition without reading any data. This can occur, for example, when using input() to read from the standard input and the user closes the input stream (e.g., by pressing Ctrl+D in Unix-like systems).\n",
        "\n",
        "b. FloatingPointError: Raised when a floating-point operation (like division by zero or an operation resulting in an undefined value like infinity) fails.\n",
        "\n",
        "c. IndexError: Raised when trying to access an index in a sequence (such as a list, tuple, or string) that is out of range.\n",
        "\n",
        "d. MemoryError: Raised when an operation runs out of memory, indicating that the Python interpreter cannot allocate more memory for the program.\n",
        "\n",
        "e. OverflowError: Raised when the result of an arithmetic operation is too large to be represented. For example, this can occur when trying to calculate a factorial that exceeds the maximum representable value.\n",
        "\n",
        "f. TabError: Raised when indentation contains inconsistent tabs and spaces, which is not allowed in Python.\n",
        "\n",
        "g. ValueError: Raised when a function receives an argument of the correct type but with an inappropriate value. This can occur, for example, when trying to convert a string to an integer, but the string does not represent a valid integer.'''"
      ],
      "metadata": {
        "id": "CVEPooX4bL22"
      },
      "execution_count": null,
      "outputs": []
    },
    {
      "cell_type": "code",
      "source": [
        "'''8. Write code for the following given scenario and add try-exception block to it.\n",
        "a. Program to divide two numbers\n",
        "b. Program to convert a string to an integer\n",
        "c. Program to access an element in a list\n",
        "d. Program to handle a specific exception\n",
        "e. Program to handle any exception'''\n",
        "\n",
        "#Ans:\n",
        "#a. Program to divide two numbers:\n",
        "\n",
        "\n",
        "try:\n",
        "    num1 = float(input(\"Enter the first number: \"))\n",
        "    num2 = float(input(\"Enter the second number: \"))\n",
        "    result = num1 / num2\n",
        "    print(\"Result:\", result)\n",
        "except ZeroDivisionError:\n",
        "    print(\"Division by zero is not allowed.\")\n",
        "except ValueError:\n",
        "    print(\"Please enter valid numbers.\")\n",
        "\n",
        "#b. Program to convert a string to an integer:\n",
        "\n",
        "try:\n",
        "    num_str = input(\"Enter a number: \")\n",
        "    num = int(num_str)\n",
        "    print(\"Integer value:\", num)\n",
        "except ValueError:\n",
        "    print(\"Invalid input. Please enter a valid integer.\")\n",
        "\n",
        "#c. Program to access an element in a list:\n",
        "\n",
        "\n",
        "try:\n",
        "    my_list = [1, 2, 3]\n",
        "    index = int(input(\"Enter the index: \"))\n",
        "    value = my_list[index]\n",
        "    print(\"Value at index\", index, \"is\", value)\n",
        "except IndexError:\n",
        "    print(\"Index out of range. Please enter a valid index.\")\n",
        "except ValueError:\n",
        "    print(\"Invalid input. Please enter a valid integer index.\")\n",
        "\n",
        "#d. Program to handle a specific exception (ValueError):\n",
        "\n",
        "try:\n",
        "    x = int(input(\"Enter a number: \"))\n",
        "    if x < 0:\n",
        "        raise ValueError(\"Number must be positive\")\n",
        "except ValueError as e:\n",
        "    print(\"Error:\", e)\n",
        "\n",
        "#e. Program to handle any exception:\n",
        "\n",
        "\n",
        "try:\n",
        "    x = int(input(\"Enter a number: \"))\n",
        "    y = 10 / x\n",
        "except Exception as e:\n",
        "    print(\"An error occurred:\", e)\n"
      ],
      "metadata": {
        "colab": {
          "base_uri": "https://localhost:8080/"
        },
        "id": "gBLCUwv-cDHW",
        "outputId": "42b2e3ee-66d7-4303-a7c5-ed521fe812c4"
      },
      "execution_count": 5,
      "outputs": [
        {
          "name": "stdout",
          "output_type": "stream",
          "text": [
            "Enter the first number: 2\n",
            "Enter the second number: 5\n",
            "Result: 0.4\n",
            "Enter a number: 7\n",
            "Integer value: 7\n",
            "Enter the index: 1\n",
            "Value at index 1 is 2\n",
            "Enter a number: 2\n",
            "Enter a number: 3\n"
          ]
        }
      ]
    }
  ]
}