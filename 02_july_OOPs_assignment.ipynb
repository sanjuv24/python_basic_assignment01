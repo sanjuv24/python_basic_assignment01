{
 "cells": [
  {
   "cell_type": "code",
   "execution_count": null,
   "id": "6a525072-5de0-4303-bfaa-47de04aa3985",
   "metadata": {},
   "outputs": [],
   "source": [
    "1. Explain what inheritance is in object-oriented programming and why it is used.\n",
    "Ans:Inheritance is a fundamental concept in object-oriented programming (OOP) where a new class (subclass or derived class) is created based on an existing class (superclass or base class). The subclass inherits attributes and methods from the superclass, allowing it to reuse code and extend the functionality of the superclass.\n",
    "\n",
    "Inheritance is used for several reasons:\n",
    "\n",
    "Code Reusability: Inheritance allows subclasses to inherit attributes and methods from a superclass, reducing code duplication and promoting code reuse.\n",
    "\n",
    "Modularity: Inheritance helps in organizing code into hierarchical structures, making it easier to manage and maintain.\n",
    "\n",
    "Extensibility: Subclasses can add new attributes and methods, or override existing ones from the superclass, to customize their behavior without modifying the superclass.\n",
    "\n",
    "Polymorphism: Inheritance enables polymorphic behavior, where objects of different classes can be treated as objects of a common superclass, simplifying code and making it more flexible."
   ]
  },
  {
   "cell_type": "code",
   "execution_count": null,
   "id": "135b9ad4-eb0d-4612-aec2-11f4be84544a",
   "metadata": {},
   "outputs": [],
   "source": [
    "2. Discuss the concept of single inheritance and multiple inheritance, highlighting their differences and advantages.\n",
    "Ans:Single Inheritance:\n",
    "Single inheritance is a concept in object-oriented programming where a class can inherit attributes and methods from only one superclass. In single inheritance, each subclass has only one direct superclass. This promotes simplicity and avoids the complexities that can arise from multiple inheritance.\n",
    "\n",
    "Advantages of Single Inheritance:\n",
    "\n",
    "Simplicity: Single inheritance leads to simpler class hierarchies, making the code easier to understand and maintain.\n",
    "Encapsulation: Single inheritance promotes encapsulation by allowing classes to inherit the behavior of a single superclass, which can help in managing complexity.\n",
    "Code Reusability: Single inheritance allows subclasses to reuse code from a single superclass, leading to more efficient and reusable code.\n",
    "\n",
    "\n",
    "Multiple Inheritance:\n",
    "Multiple inheritance is a concept in object-oriented programming where a class can inherit attributes and methods from more than one superclass. This allows a subclass to have multiple direct superclasses.\n",
    "\n",
    "Advantages of Multiple Inheritance:\n",
    "\n",
    "Code Reusability: Multiple inheritance allows a subclass to inherit attributes and methods from multiple superclasses, promoting code reuse and reducing duplication.\n",
    "Flexibility: Multiple inheritance provides more flexibility in designing class hierarchies, allowing for more complex relationships between classes.\n",
    "Specialization: Multiple inheritance allows a subclass to inherit behavior from multiple superclasses, enabling more specialized and specific classes to be created.\n",
    "\n",
    "\n",
    "\n",
    "Differences:\n",
    "\n",
    "Number of Superclasses: Single inheritance allows a class to inherit from only one superclass, while multiple inheritance allows a class to inherit from more than one superclass.\n",
    "Complexity: Multiple inheritance can lead to more complex class hierarchies and potential conflicts, while single inheritance tends to be simpler and easier to manage.\n",
    "Diamond Problem: Multiple inheritance can lead to the diamond problem, where ambiguity arises when a class inherits from two classes that have a common superclass. This problem does not occur in single inheritance.\n",
    "Code Reusability: Multiple inheritance provides more opportunities for code reuse, while single inheritance is more limited in this aspect."
   ]
  },
  {
   "cell_type": "code",
   "execution_count": null,
   "id": "9cb54c1a-dad1-4cae-9980-781f4967518f",
   "metadata": {},
   "outputs": [],
   "source": [
    "3. Explain the terms \"base class\" and \"derived class\" in the context of inheritance.\n",
    "Ans: The terms \"base class\" and \"derived class\" are used to describe the relationship between classes.\n",
    "\n",
    "Base Class (Superclass):\n",
    "\n",
    "The base class is the class that is being inherited from.\n",
    "It is also known as the superclass.\n",
    "The base class provides the foundation for the derived class by defining common attributes and methods that the derived class can inherit.\n",
    "The base class can also be referred to as the parent class.\n",
    "\n",
    "\n",
    "\n",
    "Derived Class (Subclass):\n",
    "\n",
    "The derived class is the class that inherits from the base class.\n",
    "It is also known as the subclass.\n",
    "The derived class inherits attributes and methods from the base class and can also add its own attributes and methods or override the inherited ones.\n",
    "The derived class can be thought of as a specialized version of the base class.\n",
    "Inheritance allows the derived class to reuse code from the base class, promoting code reuse and modularity. It also allows for the creation of specialized classes that can extend the functionality of the base class."
   ]
  },
  {
   "cell_type": "code",
   "execution_count": null,
   "id": "87084e17-9317-4d1c-a0a6-302fd013bc57",
   "metadata": {},
   "outputs": [],
   "source": [
    "4. What is the significance of the \"protected\" access modifier in inheritance? How does it differ from \"private\" and \"public\" modifiers?\n",
    "Ans:The \"protected\" access modifier in inheritance signifies that the attribute or method is accessible within the same class, as well as within subclasses (derived classes) of that class.\n",
    "\n",
    "Difference of \"protected\"  from \"private\" and \"public\" modifiers in the context of inheritance:\n",
    "\n",
    "Private Access Modifier: Attributes and methods marked as \"private\" are only accessible within the class where they are defined. They are not accessible in subclasses. This means that subclasses cannot directly access or override private attributes or methods of the superclass.\n",
    "\n",
    "Protected Access Modifier: Attributes and methods marked as \"protected\" are accessible within the class where they are defined and within subclasses. Subclasses can access and override protected attributes and methods of the superclass. Protected members are not accessible outside the class hierarchy.\n",
    "\n",
    "Public Access Modifier: Attributes and methods marked as \"public\" are accessible from anywhere, both within and outside the class hierarchy. Public members can be accessed and overridden by subclasses and other classes."
   ]
  },
  {
   "cell_type": "code",
   "execution_count": 1,
   "id": "5cf720ea-ef47-48e0-885f-dd326e3d389e",
   "metadata": {},
   "outputs": [
    {
     "name": "stdout",
     "output_type": "stream",
     "text": [
      "Animal speaks\n",
      "Dog barks\n"
     ]
    }
   ],
   "source": [
    "#5. What is the purpose of the \"super\" keyword in inheritance? Provide an example.\n",
    "#Ans:The super keyword in inheritance is used to call methods and access attributes of the superclass from within a subclass. It is particularly useful when the subclass overrides a method of the superclass but still wants to access the superclass's implementation of that method.\n",
    "\n",
    "#Example:\n",
    "\n",
    "class Animal:\n",
    "    def __init__(self, name):\n",
    "        self.name = name\n",
    "\n",
    "    def speak(self):\n",
    "        print(\"Animal speaks\")\n",
    "\n",
    "class Dog(Animal):\n",
    "    def __init__(self, name, breed):\n",
    "        super().__init__(name)\n",
    "        self.breed = breed\n",
    "\n",
    "    def speak(self):\n",
    "        super().speak()\n",
    "        print(\"Dog barks\")\n",
    "\n",
    "# Creating an instance of Dog\n",
    "dog = Dog(\"Buddy\", \"Labrador\")\n",
    "dog.speak()\n",
    "#In this example, we have a base class Animal with an __init__ method and a speak method. The Dog class is a subclass of Animal and overrides the speak method. Inside the Dog class, we use super().__init__(name) to call the __init__ method of the superclass (Animal) and initialize the name attribute. Similarly, super().speak() is used to call the speak method of the superclass (Animal) before printing \"Dog barks\" in the speak method of the Dog class.\n"
   ]
  },
  {
   "cell_type": "code",
   "execution_count": 3,
   "id": "b2c0ca1e-8174-4856-9d08-c951f7988351",
   "metadata": {},
   "outputs": [
    {
     "name": "stdout",
     "output_type": "stream",
     "text": [
      "Make: Tata, Model: Harrier, Year: 2022\n",
      "Fuel Type: Diesel\n"
     ]
    }
   ],
   "source": [
    "#6. Create a base class called \"Vehicle\" with attributes like \"make\", \"model\", and \"year\". Then, create a derived class called \"Car\" that inherits from \"Vehicle\" and adds an attribute called \"fuel_type\". Implement appropriate methods in both classes.\n",
    "#Ans:\n",
    "class Vehicle:\n",
    "    def __init__(self, make, model, year):\n",
    "        self.make = make\n",
    "        self.model = model\n",
    "        self.year = year\n",
    "\n",
    "    def display_info(self):\n",
    "        print(f\"Make: {self.make}, Model: {self.model}, Year: {self.year}\")\n",
    "\n",
    "class Car(Vehicle):\n",
    "    def __init__(self, make, model, year, fuel_type):\n",
    "        super().__init__(make, model, year)\n",
    "        self.fuel_type = fuel_type\n",
    "\n",
    "    def display_info(self):\n",
    "        super().display_info()\n",
    "        print(f\"Fuel Type: {self.fuel_type}\")\n",
    "\n",
    "# Creating an instance of Car\n",
    "car = Car(\"Tata\", \"Harrier\", 2022, \"Diesel\")\n",
    "car.display_info()"
   ]
  },
  {
   "cell_type": "code",
   "execution_count": 4,
   "id": "ae6a186c-1439-475c-a29b-88d8183d40fc",
   "metadata": {},
   "outputs": [
    {
     "name": "stdout",
     "output_type": "stream",
     "text": [
      "Name: Alice, Salary: 80000\n",
      "Department: Engineering\n",
      "Name: Bob, Salary: 30000\n",
      "Programming Language: Python\n"
     ]
    }
   ],
   "source": [
    "#7. Create a base class called \"Employee\" with attributes like \"name\" and \"salary.\" Derive two classes, \"Manager\" and \"Developer,\" from \"Employee.\" Add an additional attribute called \"department\" for the \"Manager\" class and \"programming_language\" for the \"Developer\" class.\n",
    "#Ans:\n",
    "class Employee:\n",
    "    def __init__(self, name, salary):\n",
    "        self.name = name\n",
    "        self.salary = salary\n",
    "\n",
    "    def display_info(self):\n",
    "        print(f\"Name: {self.name}, Salary: {self.salary}\")\n",
    "\n",
    "class Manager(Employee):\n",
    "    def __init__(self, name, salary, department):\n",
    "        super().__init__(name, salary)\n",
    "        self.department = department\n",
    "\n",
    "    def display_info(self):\n",
    "        super().display_info()\n",
    "        print(f\"Department: {self.department}\")\n",
    "\n",
    "class Developer(Employee):\n",
    "    def __init__(self, name, salary, programming_language):\n",
    "        super().__init__(name, salary)\n",
    "        self.programming_language = programming_language\n",
    "\n",
    "    def display_info(self):\n",
    "        super().display_info()\n",
    "        print(f\"Programming Language: {self.programming_language}\")\n",
    "\n",
    "# Creating instances of Manager and Developer\n",
    "manager = Manager(\"Alice\", 80000, \"Engineering\")\n",
    "developer = Developer(\"Bob\", 30000, \"Python\")\n",
    "\n",
    "manager.display_info()\n",
    "developer.display_info()"
   ]
  },
  {
   "cell_type": "code",
   "execution_count": 5,
   "id": "b7785f73-22db-47fc-8b7c-627a204c2574",
   "metadata": {},
   "outputs": [
    {
     "name": "stdout",
     "output_type": "stream",
     "text": [
      "Colour: Red, Border Width: 2\n",
      "Length: 10, Width: 5\n",
      "Colour: Blue, Border Width: 1\n",
      "Radius: 7\n"
     ]
    }
   ],
   "source": [
    "#8.Design a base class called \"Shape\" with attributes like \"colour\" and \"border_width.\" Create derived classes, \"Rectangle\" and \"Circle,\" that inherit from \"Shape\" and add specific attributes like \"length\" and \"width\" for the \"Rectangle\" class and \"radius\" for the \"Circle\" class.\n",
    "#Ans:\n",
    "class Shape:\n",
    "    def __init__(self, colour, border_width):\n",
    "        self.colour = colour\n",
    "        self.border_width = border_width\n",
    "\n",
    "    def display_info(self):\n",
    "        print(f\"Colour: {self.colour}, Border Width: {self.border_width}\")\n",
    "\n",
    "class Rectangle(Shape):\n",
    "    def __init__(self, colour, border_width, length, width):\n",
    "        super().__init__(colour, border_width)\n",
    "        self.length = length\n",
    "        self.width = width\n",
    "\n",
    "    def display_info(self):\n",
    "        super().display_info()\n",
    "        print(f\"Length: {self.length}, Width: {self.width}\")\n",
    "\n",
    "class Circle(Shape):\n",
    "    def __init__(self, colour, border_width, radius):\n",
    "        super().__init__(colour, border_width)\n",
    "        self.radius = radius\n",
    "\n",
    "    def display_info(self):\n",
    "        super().display_info()\n",
    "        print(f\"Radius: {self.radius}\")\n",
    "\n",
    "# Creating instances of Rectangle and Circle\n",
    "rectangle = Rectangle(\"Red\", 2, 10, 5)\n",
    "circle = Circle(\"Blue\", 1, 7)\n",
    "\n",
    "rectangle.display_info()\n",
    "circle.display_info()"
   ]
  },
  {
   "cell_type": "code",
   "execution_count": 6,
   "id": "a711d321-97ce-4f12-aedf-84d47118057c",
   "metadata": {},
   "outputs": [
    {
     "name": "stdout",
     "output_type": "stream",
     "text": [
      "Brand: Apple, Model: iPhone 12\n",
      "Screen Size: 6.1 inches\n",
      "Brand: Samsung, Model: Galaxy Tab S7\n",
      "Battery Capacity: 8000 mAh\n"
     ]
    }
   ],
   "source": [
    "#9. Create a base class called \"Device\" with attributes like \"brand\" and \"model.\" Derive two classes, \"Phone\" and \"Tablet,\" from \"Device.\" Add specific attributes like \"screen_size\" for the \"Phone\" class and \"battery_capacity\" for the \"Tablet\" class.\n",
    "#Ans:\n",
    "class Device:\n",
    "    def __init__(self, brand, model):\n",
    "        self.brand = brand\n",
    "        self.model = model\n",
    "\n",
    "    def display_info(self):\n",
    "        print(f\"Brand: {self.brand}, Model: {self.model}\")\n",
    "\n",
    "class Phone(Device):\n",
    "    def __init__(self, brand, model, screen_size):\n",
    "        super().__init__(brand, model)\n",
    "        self.screen_size = screen_size\n",
    "\n",
    "    def display_info(self):\n",
    "        super().display_info()\n",
    "        print(f\"Screen Size: {self.screen_size}\")\n",
    "\n",
    "class Tablet(Device):\n",
    "    def __init__(self, brand, model, battery_capacity):\n",
    "        super().__init__(brand, model)\n",
    "        self.battery_capacity = battery_capacity\n",
    "\n",
    "    def display_info(self):\n",
    "        super().display_info()\n",
    "        print(f\"Battery Capacity: {self.battery_capacity}\")\n",
    "\n",
    "# Creating instances of Phone and Tablet\n",
    "phone = Phone(\"Apple\", \"iPhone 12\", \"6.1 inches\")\n",
    "tablet = Tablet(\"Samsung\", \"Galaxy Tab S7\", \"8000 mAh\")\n",
    "\n",
    "phone.display_info()\n",
    "tablet.display_info()"
   ]
  },
  {
   "cell_type": "code",
   "execution_count": 7,
   "id": "647a2d3a-656c-4474-a520-27fcdb8efa89",
   "metadata": {},
   "outputs": [
    {
     "name": "stdout",
     "output_type": "stream",
     "text": [
      "Interest calculated: 20.0\n",
      "Account Number: SA123456, Balance: 1020.0\n",
      "Fees deducted: 10\n",
      "Account Number: CA789012, Balance: 490\n"
     ]
    }
   ],
   "source": [
    "#10. Create a base class called \"BankAccount\" with attributes like \"account_number\" and \"balance.\" Derive two classes, \"SavingsAccount\" and \"CheckingAccount,\" from \"BankAccount.\" Add specific methods like \"calculate_interest\" for the \"SavingsAccount\" class and \"deduct_fees\" for the \"CheckingAccount\" class.\n",
    "#Ans:\n",
    "class BankAccount:\n",
    "    def __init__(self, account_number, balance):\n",
    "        self.account_number = account_number\n",
    "        self.balance = balance\n",
    "\n",
    "    def display_info(self):\n",
    "        print(f\"Account Number: {self.account_number}, Balance: {self.balance}\")\n",
    "\n",
    "class SavingsAccount(BankAccount):\n",
    "    def __init__(self, account_number, balance):\n",
    "        super().__init__(account_number, balance)\n",
    "\n",
    "    def calculate_interest(self, rate):\n",
    "        interest = self.balance * (rate / 100)\n",
    "        self.balance += interest\n",
    "        print(f\"Interest calculated: {interest}\")\n",
    "\n",
    "class CheckingAccount(BankAccount):\n",
    "    def __init__(self, account_number, balance):\n",
    "        super().__init__(account_number, balance)\n",
    "\n",
    "    def deduct_fees(self, fee):\n",
    "        if self.balance >= fee:\n",
    "            self.balance -= fee\n",
    "            print(f\"Fees deducted: {fee}\")\n",
    "        else:\n",
    "            print(\"Insufficient balance to deduct fees\")\n",
    "\n",
    "# Creating instances of SavingsAccount and CheckingAccount\n",
    "savings_account = SavingsAccount(\"SA123456\", 1000)\n",
    "checking_account = CheckingAccount(\"CA789012\", 500)\n",
    "\n",
    "savings_account.calculate_interest(2)\n",
    "savings_account.display_info()\n",
    "\n",
    "checking_account.deduct_fees(10)\n",
    "checking_account.display_info()"
   ]
  },
  {
   "cell_type": "code",
   "execution_count": null,
   "id": "39404dc1-a560-4a87-94ee-47ce8b0f389f",
   "metadata": {},
   "outputs": [],
   "source": []
  },
  {
   "cell_type": "code",
   "execution_count": null,
   "id": "12e8f255-3ac4-4549-9141-8a85d0b4e5a7",
   "metadata": {},
   "outputs": [],
   "source": []
  },
  {
   "cell_type": "code",
   "execution_count": null,
   "id": "ab35ff6b-73af-4448-9299-edc3a244c1b7",
   "metadata": {},
   "outputs": [],
   "source": []
  }
 ],
 "metadata": {
  "kernelspec": {
   "display_name": "Python 3 (ipykernel)",
   "language": "python",
   "name": "python3"
  },
  "language_info": {
   "codemirror_mode": {
    "name": "ipython",
    "version": 3
   },
   "file_extension": ".py",
   "mimetype": "text/x-python",
   "name": "python",
   "nbconvert_exporter": "python",
   "pygments_lexer": "ipython3",
   "version": "3.7.8"
  }
 },
 "nbformat": 4,
 "nbformat_minor": 5
}
