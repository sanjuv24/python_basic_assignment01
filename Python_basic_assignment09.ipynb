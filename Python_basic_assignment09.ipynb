{
  "nbformat": 4,
  "nbformat_minor": 0,
  "metadata": {
    "colab": {
      "provenance": []
    },
    "kernelspec": {
      "name": "python3",
      "display_name": "Python 3"
    },
    "language_info": {
      "name": "python"
    }
  },
  "cells": [
    {
      "cell_type": "code",
      "execution_count": null,
      "metadata": {
        "colab": {
          "base_uri": "https://localhost:8080/"
        },
        "id": "7T6lEfWQcciq",
        "outputId": "d2c2f257-3fcc-4932-e270-82f667c55049"
      },
      "outputs": [
        {
          "output_type": "stream",
          "name": "stdout",
          "text": [
            "8\n"
          ]
        }
      ],
      "source": [
        "#1. What is a lambda function in Python, and how does it differ from a regular function?\n",
        "#Ans:A lambda function in Python is a small, anonymous function defined using the lambda keyword. It is often used when we need a simple function for a short period of time. Lambda functions can take any number of arguments, but they can only have one expression.\n",
        "\n",
        "#For instance, a lambda function that adds two numbers:\n",
        "\n",
        "add = lambda x, y: x + y\n",
        "print(add(5, 3))  # Output: 8\n",
        "#The main differences between lambda functions and regular functions are:\n",
        "\n",
        "#Syntax: Lambda functions are defined using the lambda keyword, while regular functions are defined using the def keyword.\n",
        "#Name: Lambda functions are anonymous, meaning they don't have a name like regular functions. They are often used in situations where a small function is needed temporarily.\n",
        "#Return: Lambda functions automatically return the value of the expression, while regular functions require an explicit return statement.\n",
        "#Scope: Lambda functions have their own local scope, similar to regular functions. However, they can access variables from the containing scope (i.e., variables defined outside the lambda function) through closures.\n"
      ]
    },
    {
      "cell_type": "code",
      "source": [
        "#2. Can a lambda function in Python have multiple arguments? If yes, how can you define and use them?\n",
        "#Ans:\n",
        "#Yes, a lambda function in Python can have multiple arguments. we can define and use them in the lambda function's argument list, separated by commas.\n",
        "#Example of a lambda function with multiple arguments (that calculates the average of three numbers):\n",
        "\n",
        "average = lambda x, y, z: (x + y + z) / 3\n",
        "print(average(5, 10, 15))  # Output: 10.0\n",
        "#In this example, x, y, and z are the arguments, and the expression (x + y + z) / 3 calculates their average.\n",
        "\n"
      ],
      "metadata": {
        "colab": {
          "base_uri": "https://localhost:8080/"
        },
        "id": "GsvVBOT5f-pR",
        "outputId": "01a5e994-83cf-4309-d571-2f8e2fc74a47"
      },
      "execution_count": null,
      "outputs": [
        {
          "output_type": "stream",
          "name": "stdout",
          "text": [
            "10.0\n"
          ]
        }
      ]
    },
    {
      "cell_type": "code",
      "source": [
        "'''3. How are lambda functions typically used in Python? Provide an example use case.\n",
        "Ans:Lambda functions in Python are often used in conjunction with higher-order functions like map, filter, and reduce, or in situations where a function is needed as an argument to another function.\n",
        "\n",
        "use case\n",
        "\n",
        "Using filter with a Lambda Function:\n",
        "\n",
        "The filter function in Python filters an iterable to include only those items for which a given function returns True. Lambda functions are often used with filter to define the filtering condition. For example, to filter out even numbers from a list:'''\n",
        "numbers = [1, 2, 3, 4, 5, 6, 7, 8, 9, 10]\n",
        "even_numbers = list(filter(lambda x: x % 2 == 0, numbers))\n",
        "print(even_numbers)  # Output: [2, 4, 6, 8, 10]\n"
      ],
      "metadata": {
        "colab": {
          "base_uri": "https://localhost:8080/"
        },
        "id": "_MYQvYilhL0E",
        "outputId": "033d5591-5e75-4f0d-b6b8-9997525f242f"
      },
      "execution_count": null,
      "outputs": [
        {
          "output_type": "stream",
          "name": "stdout",
          "text": [
            "[2, 4, 6, 8, 10]\n"
          ]
        }
      ]
    },
    {
      "cell_type": "code",
      "source": [
        "4. What are the advantages and limitations of lambda functions compared to regular functions in Python?\n",
        "Ans:Advantages: Lambda functions in Python are concise and anonymous, making them useful for short, simple functions. They are often used with higher-order functions like map and filter.\n",
        "Limitations: They are limited to a single expression and cannot contain statements, which restricts their use for more complex functions. Regular functions are more suitable for complex logic and better readability."
      ],
      "metadata": {
        "id": "Q27G-nxUnVtw"
      },
      "execution_count": null,
      "outputs": []
    },
    {
      "cell_type": "code",
      "source": [
        "'''5. Are lambda functions in Python able to access variables defined outside of their own scope? Explain with an example.\n",
        "Ans:Yes, lambda functions in Python can access variables defined outside of their own scope. This is possible through closures, which allow lambda functions to capture and remember the values of variables from the enclosing scope.\n",
        "\n",
        "Example:'''\n",
        "def outer_func():\n",
        "    x = 10\n",
        "    inner_func = lambda y: x + y\n",
        "    return inner_func\n",
        "\n",
        "closure_func = outer_func()\n",
        "print(closure_func(5))  # Output: 15\n",
        "\n",
        "#When closure_func is called with an argument of 5, it adds 5 to the value of x (which is 10), resulting in 15.\n",
        "\n",
        "\n",
        "\n",
        "\n"
      ],
      "metadata": {
        "colab": {
          "base_uri": "https://localhost:8080/"
        },
        "id": "rUlNoJKmpdB6",
        "outputId": "faf0d42a-38f4-419e-92ed-74a913bbac69"
      },
      "execution_count": null,
      "outputs": [
        {
          "output_type": "stream",
          "name": "stdout",
          "text": [
            "15\n"
          ]
        }
      ]
    },
    {
      "cell_type": "code",
      "source": [
        "#6. Write a lambda function to calculate the square of a given number.\n",
        "#Ans:\n",
        "square = lambda x: x**2\n",
        "result = square(7)\n",
        "print(result)  # Output: 49\n",
        "\n"
      ],
      "metadata": {
        "colab": {
          "base_uri": "https://localhost:8080/"
        },
        "id": "pZKe4DO4sWRf",
        "outputId": "80c43d28-dd02-4366-b99e-ffb7e79475a4"
      },
      "execution_count": null,
      "outputs": [
        {
          "output_type": "stream",
          "name": "stdout",
          "text": [
            "49\n"
          ]
        }
      ]
    },
    {
      "cell_type": "code",
      "source": [
        "#7. Create a lambda function to find the maximum value in a list of integers.\n",
        "#Ans:\n",
        "max_value = lambda x: max(x)\n",
        "\n",
        "numbers = [1, 5, 3, 9, 7]\n",
        "print(max_value(numbers))  # Output: 9"
      ],
      "metadata": {
        "id": "I2xMXJJYs1mw",
        "colab": {
          "base_uri": "https://localhost:8080/"
        },
        "outputId": "6e6d6821-bd79-44a5-9014-c649ad404f25"
      },
      "execution_count": 2,
      "outputs": [
        {
          "output_type": "stream",
          "name": "stdout",
          "text": [
            "9\n"
          ]
        }
      ]
    },
    {
      "cell_type": "code",
      "source": [
        "#8. Implement a lambda function to filter out all the even numbers from a list of integers.\n",
        "#Ans:\n",
        "filter_even = lambda x: list(filter(lambda a: a % 2 == 0, x))\n",
        "\n",
        "numbers = [1, 2, 3, 4, 5, 6, 7, 8, 9, 10]\n",
        "print(filter_even(numbers))  # Output: [2, 4, 6, 8, 10]\n",
        "\n",
        "\n",
        "\n"
      ],
      "metadata": {
        "colab": {
          "base_uri": "https://localhost:8080/"
        },
        "id": "MzdtRNQOkHbe",
        "outputId": "6b515fef-1e75-42f1-c751-47c543ef369b"
      },
      "execution_count": 5,
      "outputs": [
        {
          "output_type": "stream",
          "name": "stdout",
          "text": [
            "[2, 4, 6, 8, 10]\n"
          ]
        }
      ]
    },
    {
      "cell_type": "code",
      "source": [
        "#9. Write a lambda function to sort a list of strings in ascending order based on the length of each string.\n",
        "#Ans:\n",
        "sort_by_length = lambda x: sorted(x, key=lambda a: len(a))\n",
        "\n",
        "strings = [\"apple\", \"banana\", \"kiwi\", \"orange\", \"mango\"]\n",
        "print(sort_by_length(strings))  # Output: ['kiwi', 'apple', 'banana', 'mango', 'orange']"
      ],
      "metadata": {
        "colab": {
          "base_uri": "https://localhost:8080/"
        },
        "id": "5ixdpRPxlBfi",
        "outputId": "374513c0-71c1-4191-d7ed-d70786e6795d"
      },
      "execution_count": 6,
      "outputs": [
        {
          "output_type": "stream",
          "name": "stdout",
          "text": [
            "['kiwi', 'apple', 'mango', 'banana', 'orange']\n"
          ]
        }
      ]
    },
    {
      "cell_type": "code",
      "source": [
        "#10. Create a lambda function that takes two lists as input and returns a new list containing the common elements between the two lists.\n",
        "#Ans:\n",
        "find_common_elements = lambda a, b: list(filter(lambda x: x in a, b))\n",
        "\n",
        "list1 = [1, 2, 3, 4, 5]\n",
        "list2 = [4, 5, 6, 7, 8]\n",
        "print(find_common_elements(list1, list2))  # Output: [4, 5]"
      ],
      "metadata": {
        "colab": {
          "base_uri": "https://localhost:8080/"
        },
        "id": "kgyd7st0l71t",
        "outputId": "ad09f4a7-0e0c-4a9d-b3d4-79de58ce2947"
      },
      "execution_count": 7,
      "outputs": [
        {
          "output_type": "stream",
          "name": "stdout",
          "text": [
            "[4, 5]\n"
          ]
        }
      ]
    },
    {
      "cell_type": "code",
      "source": [
        "#11. Write a recursive function to calculate the factorial of a given positive integer.\n",
        "#Ans:\n",
        "def factorial(n):\n",
        "    if n == 0:\n",
        "        return 1\n",
        "    else:\n",
        "        return n * factorial(n-1)\n",
        "\n",
        "num = 5\n",
        "print(factorial(num))  # Output: 120"
      ],
      "metadata": {
        "colab": {
          "base_uri": "https://localhost:8080/"
        },
        "id": "C8DD6ZoBmioF",
        "outputId": "bbc2726e-17c2-4d9a-ee41-640181b2dc2e"
      },
      "execution_count": 8,
      "outputs": [
        {
          "output_type": "stream",
          "name": "stdout",
          "text": [
            "120\n"
          ]
        }
      ]
    },
    {
      "cell_type": "code",
      "source": [
        "#12. Implement a recursive function to compute the nth Fibonacci number.\n",
        "#Ans:\n",
        "def fibonacci(n):\n",
        "    if n <= 0:\n",
        "        return \"Invalid input. Please enter a positive integer.\"\n",
        "    elif n == 1:\n",
        "        return 0\n",
        "    elif n == 2:\n",
        "        return 1\n",
        "    else:\n",
        "        return fibonacci(n-1) + fibonacci(n-2)\n",
        "n = 6\n",
        "print(fibonacci(n))  # Output: 5\n",
        "\n",
        "\n",
        "\n"
      ],
      "metadata": {
        "colab": {
          "base_uri": "https://localhost:8080/"
        },
        "id": "CmS8YSFTnMV8",
        "outputId": "f88d2acd-260f-49a3-fcb8-d06025cd1fad"
      },
      "execution_count": 9,
      "outputs": [
        {
          "output_type": "stream",
          "name": "stdout",
          "text": [
            "5\n"
          ]
        }
      ]
    },
    {
      "cell_type": "code",
      "source": [
        "#13. Create a recursive function to find the sum of all the elements in a given list.\n",
        "#Ans:\n",
        "def recursive_sum(x):\n",
        "    if not x:\n",
        "        return 0\n",
        "    else:\n",
        "        return x[0] + recursive_sum(x[1:])\n",
        "numbers = [1, 2, 3, 4, 5]\n",
        "print(recursive_sum(numbers))  # Output: 15\n",
        "\n",
        "\n",
        "\n"
      ],
      "metadata": {
        "colab": {
          "base_uri": "https://localhost:8080/"
        },
        "id": "zuadb7_bp1oK",
        "outputId": "783477b6-f37f-4507-89c1-61bf94496239"
      },
      "execution_count": 11,
      "outputs": [
        {
          "output_type": "stream",
          "name": "stdout",
          "text": [
            "15\n"
          ]
        }
      ]
    },
    {
      "cell_type": "code",
      "source": [
        "#14. Write a recursive function to determine whether a given string is a palindrome.\n",
        "#Ans:\n",
        "def is_palindrome(s):\n",
        "    s = s.lower()  # Convert to lowercase for case-insensitive comparison\n",
        "    if len(s) <= 1:\n",
        "        return True\n",
        "    else:\n",
        "        if s[0] != s[-1]:\n",
        "            return False\n",
        "        else:\n",
        "            return is_palindrome(s[1:-1])\n",
        "\n",
        "# Test the function\n",
        "string = \"MALAYALAM\"\n",
        "print(is_palindrome(string))  # Output: True\n",
        "\n",
        "string = \"hello\"\n",
        "print(is_palindrome(string))  # Output: False"
      ],
      "metadata": {
        "colab": {
          "base_uri": "https://localhost:8080/"
        },
        "id": "t0aw3yF_qpIy",
        "outputId": "77099966-288f-4620-95c5-a901301c452a"
      },
      "execution_count": 12,
      "outputs": [
        {
          "output_type": "stream",
          "name": "stdout",
          "text": [
            "True\n",
            "False\n"
          ]
        }
      ]
    },
    {
      "cell_type": "code",
      "source": [
        "#15. Implement a recursive function to find the greatest common divisor (GCD) of two positive integers.\n",
        "#Ans:\n",
        "def gcd(a, b):\n",
        "    if b == 0:\n",
        "        return a\n",
        "    else:\n",
        "        return gcd(b, a % b)\n",
        "\n",
        "# Example\n",
        "num1 = 60\n",
        "num2 = 48\n",
        "print(gcd(num1, num2))  # Output: 12"
      ],
      "metadata": {
        "colab": {
          "base_uri": "https://localhost:8080/"
        },
        "id": "pL_J0lYqtMfc",
        "outputId": "29a9c73a-f464-47db-bad8-02e387843cf1"
      },
      "execution_count": 13,
      "outputs": [
        {
          "output_type": "stream",
          "name": "stdout",
          "text": [
            "12\n"
          ]
        }
      ]
    }
  ]
}