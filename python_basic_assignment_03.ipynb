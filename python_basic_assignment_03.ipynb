{
  "nbformat": 4,
  "nbformat_minor": 0,
  "metadata": {
    "colab": {
      "provenance": []
    },
    "kernelspec": {
      "name": "python3",
      "display_name": "Python 3"
    },
    "language_info": {
      "name": "python"
    }
  },
  "cells": [
    {
      "cell_type": "code",
      "execution_count": null,
      "metadata": {
        "id": "F9EH2diwXsu5"
      },
      "outputs": [],
      "source": [
        "1. Why are functions advantageous to have in your programs?\n",
        "Ans.Functions make code reuseable, modular, organized, debug, scalable, and readable, leading to more efficient and maintainable codebases.\n"
      ]
    },
    {
      "cell_type": "code",
      "source": [
        "2.When does the code in a function run: when it's specified or when it's called?\n",
        "Ans.The code inside a function runs when the function is called.\n"
      ],
      "metadata": {
        "id": "wsKdibEaX4yv"
      },
      "execution_count": null,
      "outputs": []
    },
    {
      "cell_type": "code",
      "source": [
        "3. What statement creates a function?\n",
        "Ans:In Python, the def statement is used to create a function."
      ],
      "metadata": {
        "id": "uj1WEtGuY9Lo"
      },
      "execution_count": null,
      "outputs": []
    },
    {
      "cell_type": "code",
      "source": [
        "4. What is the difference between a function and a function call?\n",
        "Ans:A function is a block of code that defines a specific task,\n",
        " while a function call is the action of executing that code by invoking the function with specified arguments or parameters.\n",
        " Functions allow for code reuse and modularity, while function calls actually execute the code contained within the function.\n"
      ],
      "metadata": {
        "id": "Hs_JfsY0aPDC"
      },
      "execution_count": null,
      "outputs": []
    },
    {
      "cell_type": "code",
      "source": [
        "5. How many global scopes are there in a Python program? How many local scopes?\n",
        "Ans:In a Python program, there is typically one global scope and multiple local scopes.\n",
        "\n",
        "Global Scope:\n",
        "\n",
        "There is only one global scope in a Python program.\n",
        "The global scope includes variables, functions, classes, and other objects defined at the top level of a Python module or script.\n",
        "Variables defined in the global scope are accessible from anywhere within the module or script.\n",
        "\n",
        "Local Scopes:\n",
        "\n",
        "Local scopes are created whenever a function is called.\n",
        "Each function call creates its own local scope, which is separate from the global scope.\n",
        "Variables defined within a function are only accessible within that function's local scope.\n",
        "Local scopes are destroyed (along with their variables) when the function returns or completes execution."
      ],
      "metadata": {
        "id": "q_AsMB9Da6IF"
      },
      "execution_count": null,
      "outputs": []
    },
    {
      "cell_type": "code",
      "source": [
        "6. What happens to variables in a local scope when the function call returns?\n",
        "Ans:When a function call returns, the local variables and the local scope associated with that function are destroyed.\n",
        "This means that the memory allocated for the local variables is released, and the variables themselves are no longer accessible."
      ],
      "metadata": {
        "id": "-f-Yz4RNcF8t"
      },
      "execution_count": null,
      "outputs": []
    },
    {
      "cell_type": "code",
      "source": [
        "7. What is the concept of a return value? Is it possible to have a return value in an expression?\n",
        "Ans:A return value in programming refers to the value that a function evaluates to and sends back to the caller when it completes its execution.\n",
        "When a function is called, it may perform some operations and produce a result. This result, or return value, can be used by the caller in further computations or operations.\n",
        "\n",
        "Just like other variables we can directly use the return value of a function call as part of an expression.\n"
      ],
      "metadata": {
        "id": "vAGJEaK0c58H"
      },
      "execution_count": null,
      "outputs": []
    },
    {
      "cell_type": "code",
      "source": [
        "8. If a function does not have a return statement, what is the return value of a call to that function?\n",
        "Ans:If a function does not have a return statement, the function will implicitly return None.\n"
      ],
      "metadata": {
        "id": "GiCMU1HMgdkR"
      },
      "execution_count": null,
      "outputs": []
    },
    {
      "cell_type": "code",
      "source": [
        "9. How do you make a function variable refer to the global variable?\n",
        "\n",
        "Ans:global keyword within the function is used to declare that the function variable refers to a global variable."
      ],
      "metadata": {
        "id": "2Y-3NrhdiOFm"
      },
      "execution_count": null,
      "outputs": []
    },
    {
      "cell_type": "code",
      "source": [
        "#10. What is the data type of None?\n",
        "#Ans:\n",
        "x = None\n",
        "print(type(x))  # Output: <class 'NoneType'>\n",
        "\n",
        "# the data type of None is <class 'NoneType'>"
      ],
      "metadata": {
        "colab": {
          "base_uri": "https://localhost:8080/"
        },
        "id": "zCtw41ijkof2",
        "outputId": "38a56a89-af42-4bfe-950d-82cef98103da"
      },
      "execution_count": 1,
      "outputs": [
        {
          "output_type": "stream",
          "name": "stdout",
          "text": [
            "<class 'NoneType'>\n"
          ]
        }
      ]
    },
    {
      "cell_type": "code",
      "source": [
        "11. What does the sentence import areallyourpetsnamederic do?\n",
        "Ans:That import statement imports a module named areallyourpetsnamederic."
      ],
      "metadata": {
        "id": "RCeh9aGhmCqn"
      },
      "execution_count": null,
      "outputs": []
    },
    {
      "cell_type": "code",
      "source": [
        "12. If you had a bacon() feature in a spam module, what would you call it after importing spam?\n",
        " Ans: we can call the bacon() function from the spam module by using dot notation (spam.bacon())."
      ],
      "metadata": {
        "id": "tR8OOyqmmNL5"
      },
      "execution_count": null,
      "outputs": []
    },
    {
      "cell_type": "code",
      "source": [
        "13. What can you do to save a programme from crashing if it encounters an error?\n",
        "Ans:To prevent a program from crashing when it encounters an error, we can implement error handling mechanisms such as try-except blocks.\n"
      ],
      "metadata": {
        "id": "BcdsSSUsn0Ke"
      },
      "execution_count": null,
      "outputs": []
    },
    {
      "cell_type": "code",
      "source": [
        "14. What is the purpose of the try clause? What is the purpose of the except clause?\n",
        "Ans:The purpose of the try clause is to execute code that may raise an exception in a controlled manner, and the purpose of the except\n",
        "clause is to handle any exceptions that occur during the execution of the try block."
      ],
      "metadata": {
        "id": "li2aYnNAo2mb"
      },
      "execution_count": null,
      "outputs": []
    }
  ]
}