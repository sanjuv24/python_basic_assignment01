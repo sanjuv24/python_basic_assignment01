{
 "cells": [
  {
   "cell_type": "code",
   "execution_count": 8,
   "id": "45b7e3ba",
   "metadata": {},
   "outputs": [
    {
     "name": "stdout",
     "output_type": "stream",
     "text": [
      "<class 'dict'>\n"
     ]
    }
   ],
   "source": [
    "#1. What does an empty dictionary's code look like?\n",
    "#Ans: \n",
    "a = {} #an empty dictionary is represented by a pair of curly braces {}\n",
    "print(type(a))"
   ]
  },
  {
   "cell_type": "code",
   "execution_count": 7,
   "id": "6f03011b",
   "metadata": {},
   "outputs": [
    {
     "data": {
      "text/plain": [
       "42"
      ]
     },
     "execution_count": 7,
     "metadata": {},
     "output_type": "execute_result"
    }
   ],
   "source": [
    "'''2. What is the value of a dictionary value with the key 'foo' and the value 42?\n",
    "Ans: The value of the dictionary with key 'foo'and the value '42' would be 42.'''\n",
    "dic = {'foo':42}\n",
    "dic['foo']"
   ]
  },
  {
   "cell_type": "code",
   "execution_count": null,
   "id": "cdfbe6c4",
   "metadata": {},
   "outputs": [],
   "source": [
    "'''3. What is the most significant distinction between a dictionary and a list?\n",
    "Ans:Lists are orders, mutable, and can contain duplicate values. Dictionaries are unordered and mutable but they cannot contain duplicate keys.'''"
   ]
  },
  {
   "cell_type": "code",
   "execution_count": 9,
   "id": "9b579017",
   "metadata": {},
   "outputs": [
    {
     "ename": "KeyError",
     "evalue": "'foo'",
     "output_type": "error",
     "traceback": [
      "\u001b[1;31m---------------------------------------------------------------------------\u001b[0m",
      "\u001b[1;31mKeyError\u001b[0m                                  Traceback (most recent call last)",
      "Cell \u001b[1;32mIn[9], line 4\u001b[0m\n\u001b[0;32m      1\u001b[0m \u001b[38;5;124;03m'''4. What happens if you try to access spam['foo'] if spam is {'bar': 100}?\u001b[39;00m\n\u001b[0;32m      2\u001b[0m \u001b[38;5;124;03mAns:'''\u001b[39;00m\n\u001b[0;32m      3\u001b[0m spam \u001b[38;5;241m=\u001b[39m {\u001b[38;5;124m'\u001b[39m\u001b[38;5;124mbar\u001b[39m\u001b[38;5;124m'\u001b[39m: \u001b[38;5;241m100\u001b[39m}\n\u001b[1;32m----> 4\u001b[0m spam[\u001b[38;5;124m'\u001b[39m\u001b[38;5;124mfoo\u001b[39m\u001b[38;5;124m'\u001b[39m]\n",
      "\u001b[1;31mKeyError\u001b[0m: 'foo'"
     ]
    }
   ],
   "source": [
    "'''4. What happens if you try to access spam['foo'] if spam is {'bar': 100}?\n",
    "Ans: This will give a keyError'''\n",
    "spam = {'bar': 100}\n",
    "spam['foo']"
   ]
  },
  {
   "cell_type": "code",
   "execution_count": null,
   "id": "4174a585",
   "metadata": {},
   "outputs": [],
   "source": [
    "5. If a dictionary is stored in spam, what is the difference between the expressions 'cat' in spam and\n",
    "'cat' in spam.keys()?\n",
    "Ans:'cat' in spam directly checks if the key 'cat' exists in the dictionary spam, while 'cat' in spam.keys() first creates a view object of the dictionary's keys andthen checks for the presence of 'cat' within that view object. Both expressions yield the same result"
   ]
  },
  {
   "cell_type": "code",
   "execution_count": null,
   "id": "1bee446a",
   "metadata": {},
   "outputs": [],
   "source": [
    "6. If a dictionary is stored in spam, what is the difference between the expressions 'cat' in spam and\n",
    "'cat' in spam.values()?\n",
    "Ans:'cat' in spam checks if 'cat' is a key in the dictionary spam, while 'cat' in spam.values() checks if 'cat' is a value in any of the values stored in spam.\n",
    "\n"
   ]
  },
  {
   "cell_type": "code",
   "execution_count": 22,
   "id": "22850345",
   "metadata": {},
   "outputs": [
    {
     "name": "stdout",
     "output_type": "stream",
     "text": [
      "dict_values(['Ram', 1, 'black'])\n"
     ]
    },
    {
     "data": {
      "text/plain": [
       "'black'"
      ]
     },
     "execution_count": 22,
     "metadata": {},
     "output_type": "execute_result"
    }
   ],
   "source": [
    "'''7. What is a shortcut for the following code?\n",
    "if 'color' not in spam:\n",
    "spam['color'] = 'black'\n",
    "Ans:The shortcut is spam.setdefault('color', 'black')'''\n",
    "spam = {'name':'Ram', 'class':1}\n",
    "spam.setdefault('color','black')\n",
    "print(spam.values())\n",
    "spam['color']"
   ]
  },
  {
   "cell_type": "code",
   "execution_count": 24,
   "id": "a184bba7",
   "metadata": {},
   "outputs": [
    {
     "name": "stdout",
     "output_type": "stream",
     "text": [
      "{'bar': [1, 2, 3], 'baz': {'a': 1, 'b': 2}, 'foo': 42}\n"
     ]
    }
   ],
   "source": [
    "'''8. How do you \"pretty print\" dictionary values using which module and function?\n",
    "Ans:To \"pretty print\" dictionary values in Python, the pprint module's pprint() function is used.'''\n",
    "import pprint\n",
    "my_dict = {'foo': 42, 'bar': [1, 2, 3], 'baz': {'a': 1, 'b': 2}}\n",
    "\n",
    "# Pretty print the dictionary\n",
    "pprint.pprint(my_dict)\n",
    "#The pprint.pprint() function prints the dictionary my_dict in a visually appealing format,\n",
    "making it easier to read and understand complex nested structures.\n",
    "\n"
   ]
  },
  {
   "cell_type": "code",
   "execution_count": null,
   "id": "f9c39ce9",
   "metadata": {},
   "outputs": [],
   "source": []
  }
 ],
 "metadata": {
  "kernelspec": {
   "display_name": "Python 3 (ipykernel)",
   "language": "python",
   "name": "python3"
  },
  "language_info": {
   "codemirror_mode": {
    "name": "ipython",
    "version": 3
   },
   "file_extension": ".py",
   "mimetype": "text/x-python",
   "name": "python",
   "nbconvert_exporter": "python",
   "pygments_lexer": "ipython3",
   "version": "3.11.5"
  }
 },
 "nbformat": 4,
 "nbformat_minor": 5
}
